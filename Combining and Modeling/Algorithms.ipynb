{
 "cells": [
  {
   "cell_type": "code",
   "execution_count": null,
   "metadata": {},
   "outputs": [],
   "source": [
    "import pandas as pd\n",
    "from collections import Counter\n",
    "import re\n",
    "import numpy as np\n",
    "from sklearn.utils import shuffle\n",
    "from sklearn.feature_extraction.text import TfidfVectorizer\n",
    "from sklearn.feature_extraction.stop_words import ENGLISH_STOP_WORDS\n",
    "from sklearn.metrics import f1_score, accuracy_score \n",
    "import matplotlib.pyplot as plt\n",
    "from sklearn.ensemble import RandomForestClassifier\n",
    "import nltk\n",
    "%matplotlib inline\n",
    "%config InlineBackend.figure_format = 'retina'"
   ]
  },
  {
   "cell_type": "code",
   "execution_count": null,
   "metadata": {},
   "outputs": [],
   "source": [
    "df=pd.read_csv(\"C:/Users/Nandini/Desktop/sa/SourceCode/Combining and Modeling/final.csv\")"
   ]
  },
  {
   "cell_type": "code",
   "execution_count": null,
   "metadata": {},
   "outputs": [],
   "source": [
    "import nltk\n",
    "nltk.download('stopwords')"
   ]
  },
  {
   "cell_type": "code",
   "execution_count": null,
   "metadata": {},
   "outputs": [],
   "source": [
    "import pandas as pd\n",
    "import os\n",
    "import gensim\n",
    "import nltk \n",
    "from sklearn.linear_model import LogisticRegression\n"
   ]
  },
  {
   "cell_type": "code",
   "execution_count": null,
   "metadata": {},
   "outputs": [],
   "source": [
    "df=pd.read_csv(\"C:/Users/Nandini/Desktop/sa/SourceCode/Combining and Modeling/final.csv\")"
   ]
  },
  {
   "cell_type": "code",
   "execution_count": null,
   "metadata": {},
   "outputs": [],
   "source": [
    "import nltk\n",
    "nltk.download('punkt')"
   ]
  },
  {
   "cell_type": "code",
   "execution_count": null,
   "metadata": {},
   "outputs": [],
   "source": [
    "for sentences in df['body']:\n",
    "    print(sentences)"
   ]
  },
  {
   "cell_type": "code",
   "execution_count": null,
   "metadata": {},
   "outputs": [],
   "source": [
    "#sentence=\"my text\"\n",
    "#tokens = nltk.word_tokenize(sentence)\n",
    "#tokens\n",
    "tokens = [nltk.word_tokenize(sentences) for sentences in df['body']]"
   ]
  },
  {
   "cell_type": "code",
   "execution_count": null,
   "metadata": {
    "scrolled": true
   },
   "outputs": [],
   "source": [
    "model = gensim.models.Word2Vec(tokens, size=300, min_count=1, workers=4)\n",
    "print(\"\\n Training the word2vec model...\\n\")"
   ]
  },
  {
   "cell_type": "code",
   "execution_count": null,
   "metadata": {},
   "outputs": [],
   "source": [
    " model.save(\"word2vec.model\")"
   ]
  },
  {
   "cell_type": "code",
   "execution_count": null,
   "metadata": {},
   "outputs": [],
   "source": [
    "model = gensim.models.Word2Vec.load(\"word2vec.model\")\n",
    "model.train(df.body, total_examples=len(df.body), epochs=4)"
   ]
  },
  {
   "cell_type": "code",
   "execution_count": null,
   "metadata": {},
   "outputs": [],
   "source": [
    " model.save(\"word2vecbody.model\")\n",
    "import numpy as np\n",
    "np.load('word2vecbody.model.wv.vectors.npy')"
   ]
  },
  {
   "cell_type": "code",
   "execution_count": null,
   "metadata": {},
   "outputs": [],
   "source": [
    "df.columns"
   ]
  },
  {
   "cell_type": "code",
   "execution_count": null,
   "metadata": {},
   "outputs": [],
   "source": [
    "train = []\n",
    "#getting only the first 4 columns of the file \n",
    "for sentences in df[df.columns[0:4]].values:\n",
    "    train.extend(sentences)\n",
    "#print (train)\n",
    "\n",
    "#Create an array of tokens using nltk\n",
    "#for sentences in train:\n",
    "#    tokens = tokens.append(nltk.word_tokenize(str(sentences)))\n",
    "tokens = [nltk.word_tokenize(str(sentences)) for sentences in train]"
   ]
  },
  {
   "cell_type": "code",
   "execution_count": null,
   "metadata": {},
   "outputs": [],
   "source": [
    "model = gensim.models.Word2Vec(tokens, size=300, min_count=1, workers=4)\n",
    "print(\"\\n Training the word2vec model...\\n\")\n",
    "#model = gensim.models.Word2Vec.load(\"word.model\")\n",
    "model.train(tokens, total_examples=len(tokens), epochs=4)\n",
    "model.save(\"word.model\")"
   ]
  },
  {
   "cell_type": "code",
   "execution_count": null,
   "metadata": {},
   "outputs": [],
   "source": [
    "# The two datasets must be the same size\n",
    "model = gensim.models.Word2Vec.load(\"word.model\")\n",
    "max_dataset_size = len(model.trainables.syn1neg)\n",
    "\n",
    "\n",
    "clf = LogisticRegression(random_state=0, solver='lbfgs', multi_class='multinomial').fit(model.trainables.syn1neg, df.fakeness[:max_dataset_size])\n",
    "\n",
    "# Prediction of the first 15 samples of all features\n",
    "predict = clf.predict(model.trainables.syn1neg[:15, :])\n",
    "# Calculating the score of the predictions\n",
    "score = clf.score(model.trainables.syn1neg, Y_dataset[:max_dataset_size])\n",
    "print(\"\\nPrediction word2vec : \\n\", predict)\n",
    "print(\"Score word2vec : \\n\", score)"
   ]
  },
  {
   "cell_type": "code",
   "execution_count": null,
   "metadata": {},
   "outputs": [],
   "source": [
    "from sklearn.cross_validation import train_test_split\n",
    "#X_headline_train, X_headline_test, y_headline_train, y_headline_test = train_test_split(X_headline,Y, test_size = 0.25, random_state=420)\n",
    "X_train, X_test, y_train, y_test = train_test_split(model.trainables.syn1neg,df['fakeness'], test_size = 0.25, random_state=420)"
   ]
  },
  {
   "cell_type": "code",
   "execution_count": 1,
   "metadata": {},
   "outputs": [
    {
     "name": "stderr",
     "output_type": "stream",
     "text": [
      "C:\\Users\\Nandini\\Anaconda3\\lib\\site-packages\\gensim\\utils.py:1212: UserWarning: detected Windows; aliasing chunkize to chunkize_serial\n",
      "  warnings.warn(\"detected Windows; aliasing chunkize to chunkize_serial\")\n"
     ]
    }
   ],
   "source": [
    "import pandas as pd\n",
    "import numpy as np\n",
    "from tqdm import tqdm\n",
    "tqdm.pandas(desc=\"progress-bar\")\n",
    "from gensim.models import Doc2Vec\n",
    "from sklearn import utils\n",
    "from sklearn.model_selection import train_test_split\n",
    "import gensim\n",
    "from sklearn.linear_model import LogisticRegression\n",
    "from gensim.models.doc2vec import TaggedDocument\n",
    "import re\n",
    "import seaborn as sns\n",
    "import matplotlib.pyplot as plt\n"
   ]
  },
  {
   "cell_type": "code",
   "execution_count": 2,
   "metadata": {},
   "outputs": [
    {
     "data": {
      "text/html": [
       "<div>\n",
       "<style scoped>\n",
       "    .dataframe tbody tr th:only-of-type {\n",
       "        vertical-align: middle;\n",
       "    }\n",
       "\n",
       "    .dataframe tbody tr th {\n",
       "        vertical-align: top;\n",
       "    }\n",
       "\n",
       "    .dataframe thead th {\n",
       "        text-align: right;\n",
       "    }\n",
       "</style>\n",
       "<table border=\"1\" class=\"dataframe\">\n",
       "  <thead>\n",
       "    <tr style=\"text-align: right;\">\n",
       "      <th></th>\n",
       "      <th>Unnamed: 0</th>\n",
       "      <th>Unnamed: 0.1</th>\n",
       "      <th>body</th>\n",
       "      <th>fakeness</th>\n",
       "      <th>headline</th>\n",
       "      <th>id</th>\n",
       "      <th>published</th>\n",
       "    </tr>\n",
       "  </thead>\n",
       "  <tbody>\n",
       "    <tr>\n",
       "      <th>0</th>\n",
       "      <td>0</td>\n",
       "      <td>0</td>\n",
       "      <td>Print They should pay all the back all the mon...</td>\n",
       "      <td>1</td>\n",
       "      <td>Muslims BUSTED: They Stole Millions In Govâ€™t...</td>\n",
       "      <td>6a175f46bcd24d39b3e962ad0f29936721db70db</td>\n",
       "      <td>2016-10-26T21:41:00.000+03:00</td>\n",
       "    </tr>\n",
       "    <tr>\n",
       "      <th>1</th>\n",
       "      <td>1</td>\n",
       "      <td>1</td>\n",
       "      <td>Why Did Attorney General Loretta Lynch Plead T...</td>\n",
       "      <td>1</td>\n",
       "      <td>Re: Why Did Attorney General Loretta Lynch Ple...</td>\n",
       "      <td>2bdc29d12605ef9cf3f09f9875040a7113be5d5b</td>\n",
       "      <td>2016-10-29T08:47:11.259+03:00</td>\n",
       "    </tr>\n",
       "    <tr>\n",
       "      <th>2</th>\n",
       "      <td>2</td>\n",
       "      <td>2</td>\n",
       "      <td>Red State : \\r\\r\\nFox News Sunday reported thi...</td>\n",
       "      <td>1</td>\n",
       "      <td>BREAKING: Weiner Cooperating With FBI On Hilla...</td>\n",
       "      <td>c70e149fdd53de5e61c29281100b9de0ed268bc3</td>\n",
       "      <td>2016-10-31T01:41:49.479+02:00</td>\n",
       "    </tr>\n",
       "    <tr>\n",
       "      <th>3</th>\n",
       "      <td>3</td>\n",
       "      <td>3</td>\n",
       "      <td>Email Kayla Mueller was a prisoner and torture...</td>\n",
       "      <td>1</td>\n",
       "      <td>PIN DROP SPEECH BY FATHER OF DAUGHTER Kidnappe...</td>\n",
       "      <td>7cf7c15731ac2a116dd7f629bd57ea468ed70284</td>\n",
       "      <td>2016-11-01T05:22:00.000+02:00</td>\n",
       "    </tr>\n",
       "    <tr>\n",
       "      <th>4</th>\n",
       "      <td>4</td>\n",
       "      <td>4</td>\n",
       "      <td>Email HEALTHCARE REFORM TO MAKE AMERICA GREAT ...</td>\n",
       "      <td>1</td>\n",
       "      <td>FANTASTIC! TRUMP'S 7 POINT PLAN To Reform Heal...</td>\n",
       "      <td>0206b54719c7e241ffe0ad4315b808290dbe6c0f</td>\n",
       "      <td>2016-11-01T21:56:00.000+02:00</td>\n",
       "    </tr>\n",
       "  </tbody>\n",
       "</table>\n",
       "</div>"
      ],
      "text/plain": [
       "   Unnamed: 0  Unnamed: 0.1  \\\n",
       "0           0             0   \n",
       "1           1             1   \n",
       "2           2             2   \n",
       "3           3             3   \n",
       "4           4             4   \n",
       "\n",
       "                                                body  fakeness  \\\n",
       "0  Print They should pay all the back all the mon...         1   \n",
       "1  Why Did Attorney General Loretta Lynch Plead T...         1   \n",
       "2  Red State : \\r\\r\\nFox News Sunday reported thi...         1   \n",
       "3  Email Kayla Mueller was a prisoner and torture...         1   \n",
       "4  Email HEALTHCARE REFORM TO MAKE AMERICA GREAT ...         1   \n",
       "\n",
       "                                            headline  \\\n",
       "0  Muslims BUSTED: They Stole Millions In Govâ€™t...   \n",
       "1  Re: Why Did Attorney General Loretta Lynch Ple...   \n",
       "2  BREAKING: Weiner Cooperating With FBI On Hilla...   \n",
       "3  PIN DROP SPEECH BY FATHER OF DAUGHTER Kidnappe...   \n",
       "4  FANTASTIC! TRUMP'S 7 POINT PLAN To Reform Heal...   \n",
       "\n",
       "                                         id                      published  \n",
       "0  6a175f46bcd24d39b3e962ad0f29936721db70db  2016-10-26T21:41:00.000+03:00  \n",
       "1  2bdc29d12605ef9cf3f09f9875040a7113be5d5b  2016-10-29T08:47:11.259+03:00  \n",
       "2  c70e149fdd53de5e61c29281100b9de0ed268bc3  2016-10-31T01:41:49.479+02:00  \n",
       "3  7cf7c15731ac2a116dd7f629bd57ea468ed70284  2016-11-01T05:22:00.000+02:00  \n",
       "4  0206b54719c7e241ffe0ad4315b808290dbe6c0f  2016-11-01T21:56:00.000+02:00  "
      ]
     },
     "execution_count": 2,
     "metadata": {},
     "output_type": "execute_result"
    }
   ],
   "source": [
    "df=pd.read_csv(\"C:/Users/Nandini/Desktop/sa/SourceCode/Combining and Modeling/final.csv\")\n",
    "df.head()"
   ]
  },
  {
   "cell_type": "code",
   "execution_count": 3,
   "metadata": {},
   "outputs": [
    {
     "data": {
      "image/png": "[encoded data removed]",
      "text/plain": [
       "<Figure size 864x288 with 1 Axes>"
      ]
     },
     "metadata": {},
     "output_type": "display_data"
    }
   ],
   "source": [
    "cnt_pro = df['fakeness'].value_counts()\n",
    "plt.figure(figsize=(12,4))\n",
    "sns.barplot(cnt_pro.index, cnt_pro.values, alpha=0.8)\n",
    "plt.ylabel('Number of Occurrences', fontsize=12)\n",
    "plt.xlabel('fake', fontsize=12)\n",
    "plt.xticks(rotation=90)\n",
    "plt.show();"
   ]
  },
  {
   "cell_type": "code",
   "execution_count": 4,
   "metadata": {},
   "outputs": [],
   "source": [
    "from bs4 import BeautifulSoup\n",
    "def cleanText(text):\n",
    "    text = BeautifulSoup(text, \"lxml\").text\n",
    "    text = re.sub(r'\\|\\|\\|', r' ', text) \n",
    "    text = re.sub(r'http\\S+', r'<URL>', text)\n",
    "    text = text.lower()\n",
    "    text = text.replace('x', '')\n",
    "    return text\n",
    "df['body'] = df['body'].apply(cleanText)"
   ]
  },
  {
   "cell_type": "code",
   "execution_count": 5,
   "metadata": {},
   "outputs": [],
   "source": [
    "train, test = train_test_split(df, test_size=0.3, random_state=42)\n",
    "import nltk\n",
    "from nltk.corpus import stopwords\n",
    "def tokenize_text(text):\n",
    "    tokens = []\n",
    "    for sent in nltk.sent_tokenize(text):\n",
    "        for word in nltk.word_tokenize(sent):\n",
    "            if len(word) < 2:\n",
    "                continue\n",
    "            tokens.append(word.lower())\n",
    "    return tokens\n",
    "train_tagged = train.apply(\n",
    "    lambda r: TaggedDocument(words=tokenize_text(r['body']), tags=[r.fakeness]), axis=1)\n",
    "test_tagged = test.apply(\n",
    "    lambda r: TaggedDocument(words=tokenize_text(r['body']), tags=[r.fakeness]), axis=1)"
   ]
  },
  {
   "cell_type": "code",
   "execution_count": 6,
   "metadata": {},
   "outputs": [
    {
     "data": {
      "text/plain": [
       "TaggedDocument(words=['rescuers', 'on', 'the', 'indonesian', 'island', 'of', 'lombok', 'have', 'been', 'struggling', 'to', 'reach', 'possible', 'survivors', 'after', 'the', 'devastating', 'earthquake', 'due', 'to', 'lack', 'of', 'equipment', 'in', 'some', 'districts', 'in', 'northern', 'lombok', 'authorities', 'said', 'more', 'than', 'half', 'the', 'homes', 'had', 'been', 'destroyed', 'or', 'badly', 'damaged', 'by', 'the', 'quake', 'on', 'sunday', 'which', 'has', 'killed', 'at', 'least', '98', 'people', 'and', 'injured', '269.', 'there', 'was', 'massive', 'damage', 'said', 'sutopo', 'purwo', 'nugroho', 'of', 'the', 'disaster', 'management', 'agency', 'and', 'some', 'areas', 'were', 'unreachable', 'rescue', 'teams', 'were', 'trying', 'to', 'dig', 'up', 'bodies', 'from', 'underneath', 'mosque', 'in', 'the', 'village', 'of', 'lading-lading', 'the', 'buildingâ€™s', 'green', 'dome', 'was', 'perched', 'on', 'top', 'of', 'slabs', 'of', 'flattened', 'concrete', 'about', '40', 'people', 'were', 'believed', 'to', 'have', 'been', 'inside', 'the', 'mosque', 'when', 'the', '6.9-magnitude', 'earthquake', 'hit', 'lack', 'of', 'heavy', 'lifting', 'equipment', 'was', 'hampering', 'the', 'relief', 'effort', 'nugroho', 'said', 'with', 'some', 'rescuers', 'forced', 'to', 'dig', 'by', 'hand', 'other', 'obstacles', 'in', 'the', 'mountainous', 'north', 'and', 'east', 'of', 'lombok', 'included', 'collapsed', 'bridges', 'and', 'electricity', 'and', 'communication', 'blackouts', 'debris', 'blocked', 'damaged', 'roads', 'the', 'earthquake', 'was', 'the', 'second', 'in', 'week', 'to', 'hit', 'lombok', 'following', 'previous', 'one', 'on', '29', 'july', 'which', 'killed', '16', 'people', 'and', 'damaged', 'numerous', 'houses', 'the', 'death', 'toll', 'form', 'this', 'quake', 'is', 'epected', 'to', 'increase', 'about', '20,000', 'people', 'are', 'in', 'temporary', 'shelters', 'najmul', 'akhyar', 'the', 'north', 'lombok', 'district', 'chief', 'estimated', 'that', '80', 'of', 'the', 'region', 'had', 'been', 'damaged', 'by', 'the', 'quake', 'nugroho', 'said', 'â€œwe', 'epect', 'the', 'number', 'of', 'fatalities', 'to', 'keep', 'rising', 'all', 'victims', 'who', 'died', 'are', 'indonesians.â€�', 'search', 'teams', 'rescued', 'between', '2,000', 'and', '2,700', 'tourists', 'from', 'the', 'gili', 'islands', 'three', 'tiny', 'coral-fringed', 'tropical', 'islands', 'off', 'the', 'north-west', 'coast', 'of', 'lombok', 'footage', 'posted', 'online', 'by', 'rescue', 'officials', 'showed', 'hundreds', 'of', 'panicked', 'tourists', 'and', 'locals', 'crowding', 'on', 'to', 'powder-white', 'beaches', 'waiting', 'for', 'evacuation', 'james', 'kelsall', '28-year-old', 'british', 'tourist', 'was', 'visiting', 'one', 'of', 'the', 'gili', 'islands', 'with', 'his', 'partner', 'when', 'the', 'quake', 'struck', 'speaking', 'from', 'beach', 'as', 'he', 'awaited', 'evacuation', 'the', 'teacher', 'said', 'â€œthere', 'were', 'lots', 'of', 'injuries', 'and', 'pain', 'on', 'the', 'island', 'from', 'buildings', 'that', 'had', 'collapsed', 'on', 'to', 'people', 'â€œthe', 'most', 'terrifying', 'part', 'was', 'the', 'tsunami', 'warning', 'that', 'followed', 'all', 'the', 'locals', 'were', 'frantically', 'running', 'and', 'screaming', 'putting', 'on', 'lifejackets.â€�', 'hospitals', 'were', 'reportedly', 'full', 'and', 'injured', 'people', 'were', 'being', 'treated', 'in', 'car', 'parks', 'and', 'makeshift', 'medical', 'tents', 'aid', 'agencies', 'said', 'they', 'were', 'distributing', 'food', 'water', 'tents', 'blankets', 'and', 'hygiene', 'kits', 'zul', 'ashfi', 'the', 'humanitarian', 'programme', 'coordinator', 'for', 'islamic', 'relief', 'in', 'indonesia', 'described', 'the', 'situation', 'as', 'â€œcatastrophicâ€�', 'â€œi', 'saw', 'people', 'fleeing', 'for', 'their', 'lives', 'screaming', 'for', 'help', 'into', 'their', 'mobile', 'phones', 'as', 'they', 'ran', 'â€�', 'he', 'said', 'â€œit', 'was', 'very', 'traumatic', 'they', 'are', 'now', 'sleeping', 'in', 'the', 'open', 'air', 'and', 'have', 'nothing', 'we', 'are', 'now', 'working', 'against', 'the', 'clock', 'to', 'reach', 'as', 'many', 'people', 'in', 'need', 'as', 'we', 'can.â€�', 'the', 'earthquake', 'caused', 'widespread', 'panic', 'across', 'lombok', 'with', 'residents', 'fleeing', 'their', 'homes', 'and', 'heading', 'to', 'higher', 'ground', 'after', 'the', 'tremor', 'initially', 'triggered', 'tsunami', 'warning', 'rescue', 'officials', 'said', 'much', 'of', 'the', 'damage', 'was', 'in', 'lombokâ€™s', 'main', 'city', 'of', 'mataram', 'with', 'several', 'areas', 'losing', 'power', 'and', 'patients', 'evacuated', 'from', 'the', 'main', 'hospital', 'iman', 'who', 'like', 'many', 'indonesians', 'has', 'one', 'name', 'told', 'agence', 'france-presse', 'â€œeveryone', 'immediately', 'ran', 'out', 'of', 'their', 'homes', 'everyone', 'is', 'panicking.â€�', 'the', 'united', 'states', 'geological', 'survey', 'said', 'the', 'epicentre', 'of', 'the', 'quake', 'was', 'on', 'land', 'on', 'lombok', 'but', 'initial', 'reports', 'put', 'it', 'just', 'off', 'the', 'coast', 'it', 'struck', 'at', 'depth', 'of', '31km', '19', 'miles', 'two', 'helicopters', 'have', 'been', 'deployed', 'to', 'assist', 'in', 'emergency', 'operations', 'and', 'the', 'military', 'has', 'sent', 'troops', 'and', 'medical', 'personnel', 'as', 'well', 'as', 'medical', 'supplies', 'and', 'communications', 'equipment', 'government', 'ministers', 'and', 'officials', 'from', 'countries', 'across', 'the', 'region', 'who', 'were', 'attending', 'summit', 'on', 'security', 'and', 'counter-terrorism', 'in', 'mataram', 'were', 'among', 'those', 'evacuated', 'from', 'their', 'hotels', 'singaporeâ€™s', 'law', 'and', 'home', 'affairs', 'minister', 'shanmugam', 'said', 'his', '10th-floor', 'hotel', 'room', 'shook', 'violently', 'and', 'the', 'walls', 'cracked', 'â€œit', 'was', 'quite', 'impossible', 'to', 'stand', 'up', 'heard', 'screams', 'â€�', 'he', 'wrote', 'on', 'facebook', 'â€œcame', 'out', 'and', 'made', 'my', 'way', 'down', 'staircase', 'while', 'building', 'was', 'still', 'shaking', 'power', 'went', 'out', 'for', 'while', 'lots', 'of', 'cracks', 'fallen', 'doors.â€�', 'the', 'australian', 'home', 'affairs', 'minister', 'peter', 'dutton', 'said', 'all', 'the', 'members', 'of', 'his', 'countryâ€™s', 'delegation', 'were', 'safe', 'the', 'quake', 'was', 'also', 'strongly', 'felt', 'in', 'bali', 'where', 'people', 'ran', 'out', 'of', 'houses', 'hotels', 'and', 'restaurants', 'pictures', 'showed', 'damage', 'to', 'two', 'shopping', 'centres', 'and', 'temple', 'in', 'ubud', 'despite', 'superficial', 'damage', 'flights', 'from', 'lombok', 'airport', 'and', 'baliâ€™s', 'ngurah', 'rai', 'airport', 'continued', 'to', 'operate', 'on', 'sunday', 'evening', 'michelle', 'lindsay', 'an', 'australian', 'tourist', 'in', 'bali', 'said', 'â€œall', 'the', 'hotel', 'guests', 'were', 'running', 'so', 'did', 'too', 'people', 'filled', 'the', 'streets', 'lot', 'of', 'officials', 'were', 'urging', 'people', 'not', 'to', 'panic.â€�', 'the', 'american', 'model', 'chrissy', 'teigen', 'was', 'on', 'holiday', 'in', 'bali', 'with', 'her', 'family', 'when', 'the', 'quake', 'struck', 'and', 'tweeted', 'throughout', 'the', 'tremors', 'an', 'indonesian', 'imam', 'became', 'hero', 'after', 'stoically', 'reciting', 'evening', 'prayers', 'during', 'the', 'quake', 'mobile', 'phone', 'footage', 'showed', 'him', 'continuing', 'to', 'preach', 'at', 'mosque', 'in', 'denpasar', 'bali', 'as', 'people', 'made', 'for', 'the', 'eits', 'indonesia', 'is', 'one', 'of', 'the', 'most', 'disaster-prone', 'nations', 'on', 'earth', 'it', 'straddles', 'the', 'pacific', 'ring', 'of', 'fire', 'where', 'tectonic', 'plates', 'collide', 'and', 'many', 'of', 'the', 'worldâ€™s', 'volcanic', 'eruptions', 'and', 'earthquakes', 'occur'], tags=[0])"
      ]
     },
     "execution_count": 6,
     "metadata": {},
     "output_type": "execute_result"
    }
   ],
   "source": [
    "train_tagged.values[3]"
   ]
  },
  {
   "cell_type": "code",
   "execution_count": 7,
   "metadata": {},
   "outputs": [],
   "source": [
    "import multiprocessing\n",
    "cores = multiprocessing.cpu_count()"
   ]
  },
  {
   "cell_type": "code",
   "execution_count": 8,
   "metadata": {},
   "outputs": [
    {
     "name": "stderr",
     "output_type": "stream",
     "text": [
      "100%|██████████| 19327/19327 [00:00<00:00, 1388236.83it/s]\n"
     ]
    }
   ],
   "source": [
    "model_dbow = Doc2Vec(dm=0, vector_size=300, negative=5, hs=0, min_count=2, sample = 0, workers=cores)\n",
    "model_dbow.build_vocab([x for x in tqdm(train_tagged.values)])"
   ]
  },
  {
   "cell_type": "code",
   "execution_count": 9,
   "metadata": {},
   "outputs": [
    {
     "name": "stderr",
     "output_type": "stream",
     "text": [
      "100%|██████████| 19327/19327 [00:00<00:00, 1384419.74it/s]\n",
      "100%|██████████| 19327/19327 [00:00<00:00, 1211201.79it/s]\n",
      "100%|██████████| 19327/19327 [00:00<00:00, 1076695.31it/s]\n",
      "100%|██████████| 19327/19327 [00:00<00:00, 1293350.25it/s]\n",
      "100%|██████████| 19327/19327 [00:00<00:00, 922736.38it/s]\n",
      "100%|██████████| 19327/19327 [00:00<00:00, 964499.78it/s]\n",
      "100%|██████████| 19327/19327 [00:00<00:00, 1122993.88it/s]\n",
      "100%|██████████| 19327/19327 [00:00<00:00, 1052811.32it/s]\n",
      "100%|██████████| 19327/19327 [00:00<00:00, 1384230.62it/s]\n",
      "100%|██████████| 19327/19327 [00:00<00:00, 2154334.89it/s]\n",
      "100%|██████████| 19327/19327 [00:00<00:00, 1490627.66it/s]\n",
      "100%|██████████| 19327/19327 [00:00<00:00, 1384254.25it/s]\n",
      "100%|██████████| 19327/19327 [00:00<00:00, 1292010.35it/s]\n",
      "100%|██████████| 19327/19327 [00:00<00:00, 1384088.81it/s]\n",
      "100%|██████████| 19327/19327 [00:00<00:00, 2153304.82it/s]\n",
      "100%|██████████| 19327/19327 [00:00<00:00, 1384254.25it/s]\n",
      "100%|██████████| 19327/19327 [00:00<00:00, 1384112.44it/s]\n",
      "100%|██████████| 19327/19327 [00:00<00:00, 2153476.43it/s]\n",
      "100%|██████████| 19327/19327 [00:00<00:00, 2422258.81it/s]\n",
      "100%|██████████| 19327/19327 [00:00<00:00, 1490737.31it/s]\n",
      "100%|██████████| 19327/19327 [00:00<00:00, 2422475.97it/s]\n",
      "100%|██████████| 19327/19327 [00:00<00:00, 2422837.99it/s]\n",
      "100%|██████████| 19327/19327 [00:00<00:00, 1615096.60it/s]\n",
      "100%|██████████| 19327/19327 [00:00<00:00, 1937783.89it/s]\n",
      "100%|██████████| 19327/19327 [00:00<00:00, 1490764.72it/s]\n",
      "100%|██████████| 19327/19327 [00:00<00:00, 2422620.76it/s]\n",
      "100%|██████████| 19327/19327 [00:00<00:00, 2153190.43it/s]\n",
      "100%|██████████| 19327/19327 [00:00<00:00, 1761786.35it/s]\n",
      "100%|██████████| 19327/19327 [00:00<00:00, 2421679.91it/s]\n",
      "100%|██████████| 19327/19327 [00:00<00:00, 2153476.43it/s]\n",
      "100%|██████████| 19327/19327 [00:00<00:00, 1761824.64it/s]\n",
      "100%|██████████| 19327/19327 [00:00<00:00, 2422693.17it/s]\n",
      "100%|██████████| 19327/19327 [00:00<00:00, 2153190.43it/s]\n",
      "100%|██████████| 19327/19327 [00:00<00:00, 2422475.97it/s]\n",
      "100%|██████████| 19327/19327 [00:00<00:00, 2422548.37it/s]\n",
      "100%|██████████| 19327/19327 [00:00<00:00, 1615000.07it/s]\n",
      "100%|██████████| 19327/19327 [00:00<00:00, 2425738.03it/s]\n",
      "100%|██████████| 19327/19327 [00:00<00:00, 2422837.99it/s]\n",
      "100%|██████████| 19327/19327 [00:00<00:00, 2422837.99it/s]\n",
      "100%|██████████| 19327/19327 [00:00<00:00, 1384206.98it/s]\n",
      "100%|██████████| 19327/19327 [00:00<00:00, 1490682.48it/s]\n",
      "100%|██████████| 19327/19327 [00:00<00:00, 2422620.76it/s]\n",
      "100%|██████████| 19327/19327 [00:00<00:00, 1761939.52it/s]\n",
      "100%|██████████| 19327/19327 [00:00<00:00, 2422620.76it/s]\n",
      "100%|██████████| 19327/19327 [00:00<00:00, 1940334.95it/s]\n"
     ]
    }
   ],
   "source": [
    "#time\n",
    "for epoch in range(45):\n",
    "    model_dbow.train(utils.shuffle([x for x in tqdm(train_tagged.values)]), total_examples=len(train_tagged.values), epochs=1)\n",
    "    model_dbow.alpha -= 0.002\n",
    "    model_dbow.min_alpha = model_dbow.alpha"
   ]
  },
  {
   "cell_type": "code",
   "execution_count": 10,
   "metadata": {},
   "outputs": [],
   "source": [
    "def vec_for_learning(model, tagged_docs):\n",
    "    sents = tagged_docs.values\n",
    "    targets, regressors = zip(*[(doc.tags[0], model.infer_vector(doc.words, steps=20)) for doc in sents])\n",
    "    return targets, regressors\n",
    "def vec_for_learning(model, tagged_docs):\n",
    "    sents = tagged_docs.values\n",
    "    targets, regressors = zip(*[(doc.tags[0], model.infer_vector(doc.words, steps=20)) for doc in sents])\n",
    "    return targets, regressors"
   ]
  },
  {
   "cell_type": "code",
   "execution_count": 11,
   "metadata": {},
   "outputs": [
    {
     "name": "stdout",
     "output_type": "stream",
     "text": [
      "Testing accuracy 0.612942170711095\n",
      "Testing F1 score: 0.5926642075536247\n"
     ]
    }
   ],
   "source": [
    "y_train_dbow, X_train_dbow = vec_for_learning(model_dbow, train_tagged)\n",
    "y_test_dbow, X_test_dbow = vec_for_learning(model_dbow, test_tagged)\n",
    "logreg = LogisticRegression(n_jobs=1, C=1e5)\n",
    "logreg.fit(X_train_dbow, y_train_dbow)\n",
    "y_pred_dbow = logreg.predict(X_test_dbow)\n",
    "from sklearn.metrics import accuracy_score, f1_score\n",
    "print('Testing accuracy %s' % accuracy_score(y_test_dbow, y_pred_dbow))\n",
    "print('Testing F1 score: {}'.format(f1_score(y_test_dbow, y_pred_dbow, average='weighted')))"
   ]
  },
  {
   "cell_type": "code",
   "execution_count": 12,
   "metadata": {},
   "outputs": [
    {
     "name": "stderr",
     "output_type": "stream",
     "text": [
      "100%|██████████| 19327/19327 [00:00<00:00, 1761709.77it/s]\n"
     ]
    }
   ],
   "source": [
    "model_dmm = Doc2Vec(dm=1, dm_mean=1, vector_size=300, window=10, negative=5, min_count=1, workers=5, alpha=0.065, min_alpha=0.065)\n",
    "model_dmm.build_vocab([x for x in tqdm(train_tagged.values)])"
   ]
  },
  {
   "cell_type": "code",
   "execution_count": 13,
   "metadata": {},
   "outputs": [
    {
     "name": "stderr",
     "output_type": "stream",
     "text": [
      "100%|██████████| 19327/19327 [00:00<00:00, 1614839.21it/s]\n",
      "100%|██████████| 19327/19327 [00:00<00:00, 1761862.93it/s]\n",
      "100%|██████████| 19327/19327 [00:00<00:00, 1490682.48it/s]\n",
      "100%|██████████| 19327/19327 [00:00<00:00, 1384230.62it/s]\n",
      "100%|██████████| 19327/19327 [00:00<00:00, 1614935.72it/s]\n",
      "100%|██████████| 19327/19327 [00:00<00:00, 1384112.44it/s]\n",
      "100%|██████████| 19327/19327 [00:00<00:00, 1384112.44it/s]\n",
      "100%|██████████| 19327/19327 [00:00<00:00, 1490709.90it/s]\n",
      "100%|██████████| 19327/19327 [00:00<00:00, 1490682.48it/s]\n",
      "100%|██████████| 19327/19327 [00:00<00:00, 1385745.04it/s]\n",
      "100%|██████████| 19327/19327 [00:00<00:00, 1490682.48it/s]\n",
      "100%|██████████| 19327/19327 [00:00<00:00, 1490709.90it/s]\n",
      "100%|██████████| 19327/19327 [00:00<00:00, 1490655.07it/s]\n",
      "100%|██████████| 19327/19327 [00:00<00:00, 1384301.53it/s]\n",
      "100%|██████████| 19327/19327 [00:00<00:00, 1491258.36it/s]\n",
      "100%|██████████| 19327/19327 [00:00<00:00, 1490627.66it/s]\n",
      "100%|██████████| 19327/19327 [00:00<00:00, 1384206.98it/s]\n",
      "100%|██████████| 19327/19327 [00:00<00:00, 1490572.84it/s]\n",
      "100%|██████████| 19327/19327 [00:00<00:00, 1384136.08it/s]\n",
      "100%|██████████| 19327/19327 [00:00<00:00, 1490545.43it/s]\n",
      "100%|██████████| 19327/19327 [00:00<00:00, 1490490.62it/s]\n",
      "100%|██████████| 19327/19327 [00:00<00:00, 1384112.44it/s]\n",
      "100%|██████████| 19327/19327 [00:00<00:00, 1384112.44it/s]\n",
      "100%|██████████| 19327/19327 [00:00<00:00, 1490709.90it/s]\n",
      "100%|██████████| 19327/19327 [00:00<00:00, 1490737.31it/s]\n",
      "100%|██████████| 19327/19327 [00:00<00:00, 1615064.42it/s]\n",
      "100%|██████████| 19327/19327 [00:00<00:00, 1614807.04it/s]\n",
      "100%|██████████| 19327/19327 [00:00<00:00, 1384254.25it/s]\n",
      "100%|██████████| 19327/19327 [00:00<00:00, 1490792.14it/s]\n",
      "100%|██████████| 19327/19327 [00:00<00:00, 1490764.72it/s]\n",
      "100%|██████████| 19327/19327 [00:00<00:00, 1384443.38it/s]\n",
      "100%|██████████| 19327/19327 [00:00<00:00, 1491066.35it/s]\n",
      "100%|██████████| 19327/19327 [00:00<00:00, 1490709.90it/s]\n",
      "100%|██████████| 19327/19327 [00:00<00:00, 1490600.25it/s]\n",
      "100%|██████████| 19327/19327 [00:00<00:00, 1384183.34it/s]\n",
      "100%|██████████| 19327/19327 [00:00<00:00, 2153419.23it/s]\n",
      "100%|██████████| 19327/19327 [00:00<00:00, 1490518.03it/s]\n",
      "100%|██████████| 19327/19327 [00:00<00:00, 1490737.31it/s]\n",
      "100%|██████████| 19327/19327 [00:00<00:00, 1761709.77it/s]\n",
      "100%|██████████| 19327/19327 [00:00<00:00, 1490737.31it/s]\n",
      "100%|██████████| 19327/19327 [00:00<00:00, 1490655.07it/s]\n",
      "100%|██████████| 19327/19327 [00:00<00:00, 1384183.34it/s]\n",
      "100%|██████████| 19327/19327 [00:00<00:00, 1761862.93it/s]\n",
      "100%|██████████| 19327/19327 [00:00<00:00, 1490572.84it/s]\n",
      "100%|██████████| 19327/19327 [00:00<00:00, 1490819.56it/s]\n"
     ]
    }
   ],
   "source": [
    "for epoch in range(45):\n",
    "    model_dmm.train(utils.shuffle([x for x in tqdm(train_tagged.values)]), total_examples=len(train_tagged.values), epochs=1)\n",
    "    model_dmm.alpha -= 0.002\n",
    "    model_dmm.min_alpha = model_dmm.alpha"
   ]
  },
  {
   "cell_type": "code",
   "execution_count": 14,
   "metadata": {},
   "outputs": [
    {
     "name": "stdout",
     "output_type": "stream",
     "text": [
      "Testing accuracy 0.9498973801762647\n",
      "Testing F1 score: 0.9498814470291072\n"
     ]
    }
   ],
   "source": [
    "y_train_dm, X_train_dm = vec_for_learning(model_dmm, train_tagged)\n",
    "y_test_dm, X_test_dm = vec_for_learning(model_dmm, test_tagged)\n",
    "logreg.fit(X_train_dm, y_train_dm)\n",
    "y_pred_dm = logreg.predict(X_test_dm)\n",
    "print('Testing accuracy %s' % accuracy_score(y_test_dm, y_pred_dm))\n",
    "print('Testing F1 score: {}'.format(f1_score(y_test_dm, y_pred_dm, average='weighted')))"
   ]
  },
  {
   "cell_type": "code",
   "execution_count": 15,
   "metadata": {},
   "outputs": [],
   "source": [
    "model_dbow.delete_temporary_training_data(keep_doctags_vectors=True, keep_inference=True)\n",
    "model_dmm.delete_temporary_training_data(keep_doctags_vectors=True, keep_inference=True)"
   ]
  },
  {
   "cell_type": "code",
   "execution_count": 16,
   "metadata": {},
   "outputs": [],
   "source": [
    "from gensim.test.test_doc2vec import ConcatenatedDoc2Vec\n",
    "new_model = ConcatenatedDoc2Vec([model_dbow, model_dmm])"
   ]
  },
  {
   "cell_type": "code",
   "execution_count": 17,
   "metadata": {},
   "outputs": [],
   "source": [
    "def get_vectors(model, tagged_docs):\n",
    "    sents = tagged_docs.values\n",
    "    targets, regressors = zip(*[(doc.tags[0], model.infer_vector(doc.words, steps=20)) for doc in sents])\n",
    "    return targets, regressors"
   ]
  },
  {
   "cell_type": "code",
   "execution_count": 18,
   "metadata": {},
   "outputs": [
    {
     "name": "stdout",
     "output_type": "stream",
     "text": [
      "Testing accuracy 0.9414463358686467\n",
      "Testing F1 score: 0.9414706890767734\n"
     ]
    }
   ],
   "source": [
    "y_train, X_train = get_vectors(new_model, train_tagged)\n",
    "y_test, X_test = get_vectors(new_model, test_tagged)\n",
    "logreg.fit(X_train, y_train)\n",
    "y_pred = logreg.predict(X_test)\n",
    "print('Testing accuracy %s' % accuracy_score(y_test, y_pred))\n",
    "print('Testing F1 score: {}'.format(f1_score(y_test, y_pred, average='weighted')))"
   ]
  },
  {
   "cell_type": "code",
   "execution_count": 23,
   "metadata": {},
   "outputs": [
    {
     "name": "stderr",
     "output_type": "stream",
     "text": [
      "C:\\Users\\Nandini\\Anaconda3\\lib\\site-packages\\sklearn\\utils\\deprecation.py:77: DeprecationWarning: Function plot_confusion_matrix is deprecated; This will be removed in v0.4.0. Please use scikitplot.metrics.plot_confusion_matrix instead.\n",
      "  warnings.warn(msg, category=DeprecationWarning)\n",
      "C:\\Users\\Nandini\\Anaconda3\\lib\\site-packages\\matplotlib\\cbook\\deprecation.py:107: MatplotlibDeprecationWarning: Passing one of 'on', 'true', 'off', 'false' as a boolean is deprecated; use an actual boolean (True/False) instead.\n",
      "  warnings.warn(message, mplDeprecation, stacklevel=1)\n"
     ]
    },
    {
     "data": {
      "image/png": "[encoded data removed]",
      "text/plain": [
       "<Figure size 432x288 with 2 Axes>"
      ]
     },
     "metadata": {},
     "output_type": "display_data"
    },
    {
     "name": "stdout",
     "output_type": "stream",
     "text": [
      "confusion matrix of logistic regression of Doc2vec using distributed memory\n"
     ]
    },
    {
     "name": "stderr",
     "output_type": "stream",
     "text": [
      "C:\\Users\\Nandini\\Anaconda3\\lib\\site-packages\\sklearn\\utils\\deprecation.py:77: DeprecationWarning: Function plot_confusion_matrix is deprecated; This will be removed in v0.4.0. Please use scikitplot.metrics.plot_confusion_matrix instead.\n",
      "  warnings.warn(msg, category=DeprecationWarning)\n",
      "C:\\Users\\Nandini\\Anaconda3\\lib\\site-packages\\matplotlib\\cbook\\deprecation.py:107: MatplotlibDeprecationWarning: Passing one of 'on', 'true', 'off', 'false' as a boolean is deprecated; use an actual boolean (True/False) instead.\n",
      "  warnings.warn(message, mplDeprecation, stacklevel=1)\n"
     ]
    },
    {
     "data": {
      "image/png": "[encoded data removed]",
      "text/plain": [
       "<Figure size 432x288 with 2 Axes>"
      ]
     },
     "metadata": {},
     "output_type": "display_data"
    },
    {
     "name": "stdout",
     "output_type": "stream",
     "text": [
      "confusion matrix of logistic regression of Doc2vec using distributed bag of words\n"
     ]
    },
    {
     "name": "stderr",
     "output_type": "stream",
     "text": [
      "C:\\Users\\Nandini\\Anaconda3\\lib\\site-packages\\sklearn\\utils\\deprecation.py:77: DeprecationWarning: Function plot_confusion_matrix is deprecated; This will be removed in v0.4.0. Please use scikitplot.metrics.plot_confusion_matrix instead.\n",
      "  warnings.warn(msg, category=DeprecationWarning)\n",
      "C:\\Users\\Nandini\\Anaconda3\\lib\\site-packages\\matplotlib\\cbook\\deprecation.py:107: MatplotlibDeprecationWarning: Passing one of 'on', 'true', 'off', 'false' as a boolean is deprecated; use an actual boolean (True/False) instead.\n",
      "  warnings.warn(message, mplDeprecation, stacklevel=1)\n"
     ]
    },
    {
     "data": {
      "image/png": "[encoded data removed]",
      "text/plain": [
       "<Figure size 432x288 with 2 Axes>"
      ]
     },
     "metadata": {},
     "output_type": "display_data"
    },
    {
     "name": "stdout",
     "output_type": "stream",
     "text": [
      "confusion matrix of logistic regression of Doc2vec combining both models\n"
     ]
    }
   ],
   "source": [
    "import scikitplot.plotters as skplt\n",
    "def plot_cmat(y_test, y_pred):\n",
    "    skplt.plot_confusion_matrix(y_test,y_pred)\n",
    "    plt.show()\n",
    "    \n",
    "plot_cmat(y_test_dm, y_pred_dm)\n",
    "print(\"confusion matrix of logistic regression of Doc2vec using distributed memory\")\n",
    "plot_cmat(y_test_dbow, y_pred_dbow)\n",
    "print(\"confusion matrix of logistic regression of Doc2vec using distributed bag of words\")\n",
    "plot_cmat(y_test, y_pred)\n",
    "print(\"confusion matrix of logistic regression of Doc2vec combining both models\")\n"
   ]
  },
  {
   "cell_type": "code",
   "execution_count": 25,
   "metadata": {},
   "outputs": [
    {
     "name": "stdout",
     "output_type": "stream",
     "text": [
      "Testing accuracy 0.9489315465411083\n",
      "Testing F1 score: 0.9489114179945066\n"
     ]
    }
   ],
   "source": [
    "C = 1.0  \n",
    "from sklearn import svm\n",
    "svc = svm.SVC(kernel='linear', C=C).fit(X_train_dm, y_train_dm)\n",
    "y_pred= svc.predict(X_test_dm)\n",
    "print('Testing accuracy %s' % accuracy_score(y_test_dm, y_pred))\n",
    "print('Testing F1 score: {}'.format(f1_score(y_test_dm, y_pred, average='weighted')))"
   ]
  },
  {
   "cell_type": "code",
   "execution_count": 27,
   "metadata": {},
   "outputs": [
    {
     "name": "stderr",
     "output_type": "stream",
     "text": [
      "C:\\Users\\Nandini\\Anaconda3\\lib\\site-packages\\sklearn\\utils\\deprecation.py:77: DeprecationWarning: Function plot_confusion_matrix is deprecated; This will be removed in v0.4.0. Please use scikitplot.metrics.plot_confusion_matrix instead.\n",
      "  warnings.warn(msg, category=DeprecationWarning)\n",
      "C:\\Users\\Nandini\\Anaconda3\\lib\\site-packages\\matplotlib\\cbook\\deprecation.py:107: MatplotlibDeprecationWarning: Passing one of 'on', 'true', 'off', 'false' as a boolean is deprecated; use an actual boolean (True/False) instead.\n",
      "  warnings.warn(message, mplDeprecation, stacklevel=1)\n"
     ]
    },
    {
     "data": {
      "image/png": "[encoded data removed]",
      "text/plain": [
       "<Figure size 432x288 with 2 Axes>"
      ]
     },
     "metadata": {},
     "output_type": "display_data"
    },
    {
     "name": "stdout",
     "output_type": "stream",
     "text": [
      "confusion matrix of SVM of Doc2vec using distributed memory\n"
     ]
    }
   ],
   "source": [
    "plot_cmat(y_test_dm, y_pred)\n",
    "print(\"confusion matrix of SVM of Doc2vec using distributed memory\")"
   ]
  },
  {
   "cell_type": "code",
   "execution_count": null,
   "metadata": {},
   "outputs": [],
   "source": []
  }
 ],
 "metadata": {
  "kernelspec": {
   "display_name": "Python 3",
   "language": "python",
   "name": "python3"
  },
  "language_info": {
   "codemirror_mode": {
    "name": "ipython",
    "version": 3
   },
   "file_extension": ".py",
   "mimetype": "text/x-python",
   "name": "python",
   "nbconvert_exporter": "python",
   "pygments_lexer": "ipython3",
   "version": "3.7.0"
  }
 },
 "nbformat": 4,
 "nbformat_minor": 2
}
