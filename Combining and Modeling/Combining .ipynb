{
 "cells": [
  {
   "cell_type": "code",
   "execution_count": 5,
   "metadata": {},
   "outputs": [],
   "source": [
    "import pandas as pd\n",
    "from collections import Counter\n",
    "import re\n",
    "import numpy as np\n",
    "from sklearn.utils import shuffle\n",
    "from sklearn.feature_extraction.text import TfidfVectorizer\n",
    "from sklearn.feature_extraction.stop_words import ENGLISH_STOP_WORDS\n",
    "from sklearn.metrics import f1_score, accuracy_score \n",
    "import matplotlib.pyplot as plt\n",
    "from sklearn.ensemble import RandomForestClassifier\n",
    "\n",
    "%matplotlib inline\n",
    "%config InlineBackend.figure_format = 'retina'"
   ]
  },
  {
   "cell_type": "code",
   "execution_count": 35,
   "metadata": {},
   "outputs": [],
   "source": [
    "import sys\n",
    "import csv"
   ]
  },
  {
   "cell_type": "code",
   "execution_count": 75,
   "metadata": {},
   "outputs": [],
   "source": [
    "# Reading The Guardian dataset\n",
    "df_guard = pd.read_csv(\"C:/Users/Vidyajay/Desktop/SourceCode/Cleaning Data/guardian cleaned.csv\")"
   ]
  },
  {
   "cell_type": "code",
   "execution_count": 76,
   "metadata": {},
   "outputs": [
    {
     "data": {
      "text/plain": [
       "Index(['Unnamed: 0', 'apiUrl', 'fields', 'id', 'isHosted', 'pillarId',\n",
       "       'pillarName', 'sectionId', 'sectionName', 'type', 'webPublicationDate',\n",
       "       'webTitle', 'webUrl', 'bodyText', 'headline', 'fakeness'],\n",
       "      dtype='object')"
      ]
     },
     "execution_count": 76,
     "metadata": {},
     "output_type": "execute_result"
    }
   ],
   "source": [
    "# Adding column of fakeness to the dataset and showing the column names\n",
    "df_guard[\"fakeness\"] = 0\n",
    "df_guard.columns"
   ]
  },
  {
   "cell_type": "code",
   "execution_count": 77,
   "metadata": {},
   "outputs": [],
   "source": [
    "df_kaggle = pd.read_csv(\"C:/Users/Vidyajay/Desktop/SourceCode/Cleaning Data/kaggle cleaned.csv\")"
   ]
  },
  {
   "cell_type": "code",
   "execution_count": 40,
   "metadata": {},
   "outputs": [
    {
     "data": {
      "text/plain": [
       "Index(['Unnamed: 0', 'author', 'title', 'text', 'language', 'site_url', 'type',\n",
       "       'published', 'uuid', 'fakeness'],\n",
       "      dtype='object')"
      ]
     },
     "execution_count": 40,
     "metadata": {},
     "output_type": "execute_result"
    }
   ],
   "source": [
    "# showing the column names\n",
    "df_kaggle.columns"
   ]
  },
  {
   "cell_type": "code",
   "execution_count": 41,
   "metadata": {},
   "outputs": [],
   "source": [
    "df_nyt=pd.read_csv(\"C:/Users/Vidyajay/Desktop/SourceCode/Cleaning Data/nyt cleaned.csv\")"
   ]
  },
  {
   "cell_type": "code",
   "execution_count": 42,
   "metadata": {},
   "outputs": [
    {
     "data": {
      "text/plain": [
       "Index(['Unnamed: 0', 'index', '_id', 'headline', 'pub_date', 'body', 'head1'], dtype='object')"
      ]
     },
     "execution_count": 42,
     "metadata": {},
     "output_type": "execute_result"
    }
   ],
   "source": [
    "df_nyt.columns"
   ]
  },
  {
   "cell_type": "code",
   "execution_count": 43,
   "metadata": {},
   "outputs": [
    {
     "data": {
      "text/plain": [
       "Index(['_id', 'headline', 'pub_date', 'body', 'fakeness'], dtype='object')"
      ]
     },
     "execution_count": 43,
     "metadata": {},
     "output_type": "execute_result"
    }
   ],
   "source": [
    "df_nyt[\"fakeness\"]=0\n",
    "df_nyt.drop(['Unnamed: 0','index','head1'] , inplace=True , axis=1)\n",
    "df_nyt.columns"
   ]
  },
  {
   "cell_type": "code",
   "execution_count": 44,
   "metadata": {},
   "outputs": [],
   "source": [
    "df_guard.drop(['Unnamed: 0', 'apiUrl', 'fields', \n",
    "        'isHosted', 'sectionId', 'sectionName', 'type',\n",
    "         'webTitle', 'webUrl','pillarId','pillarName'],inplace=True,axis=1)"
   ]
  },
  {
   "cell_type": "code",
   "execution_count": 45,
   "metadata": {},
   "outputs": [
    {
     "data": {
      "text/plain": [
       "Index(['id', 'webPublicationDate', 'bodyText', 'headline', 'fakeness'], dtype='object')"
      ]
     },
     "execution_count": 45,
     "metadata": {},
     "output_type": "execute_result"
    }
   ],
   "source": [
    "df_guard.columns"
   ]
  },
  {
   "cell_type": "code",
   "execution_count": 46,
   "metadata": {},
   "outputs": [
    {
     "data": {
      "text/plain": [
       "Index(['title', 'text', 'published', 'uuid', 'fakeness'], dtype='object')"
      ]
     },
     "execution_count": 46,
     "metadata": {},
     "output_type": "execute_result"
    }
   ],
   "source": [
    "# Dropping unnecesary columns\n",
    "df_kaggle.drop([ 'Unnamed: 0',  'language', 'site_url' ,'type','author'],inplace=True,axis=1)\n",
    "df_kaggle.columns\n"
   ]
  },
  {
   "cell_type": "code",
   "execution_count": 47,
   "metadata": {},
   "outputs": [
    {
     "data": {
      "text/plain": [
       "(Index(['headline', 'body', 'published', 'id', 'fakeness'], dtype='object'),\n",
       " Index(['id', 'published', 'body', 'headline', 'fakeness'], dtype='object'),\n",
       " Index(['id', 'headline', 'published', 'body', 'fakeness'], dtype='object'))"
      ]
     },
     "execution_count": 47,
     "metadata": {},
     "output_type": "execute_result"
    }
   ],
   "source": [
    "# Changing the name of the column for concating later\n",
    "df_guard = df_guard.rename(columns={'bodyText' : 'body','webPublicationDate':'published'})\n",
    "df_kaggle = df_kaggle.rename(columns={'text':'body','title':'headline','uuid':'id'})\n",
    "df_nyt=df_nyt.rename(columns={'_id':'id','pub_date':'published'})\n",
    "df_kaggle.columns,df_guard.columns,df_nyt.columns"
   ]
  },
  {
   "cell_type": "code",
   "execution_count": 48,
   "metadata": {},
   "outputs": [
    {
     "name": "stdout",
     "output_type": "stream",
     "text": [
      "The number of genuine articles in kaggle dataset are 11677\n"
     ]
    }
   ],
   "source": [
    "print(\"The number of genuine articles in kaggle dataset are \"+str(df_kaggle.shape[0]))"
   ]
  },
  {
   "cell_type": "code",
   "execution_count": 49,
   "metadata": {},
   "outputs": [
    {
     "data": {
      "text/html": [
       "<div>\n",
       "<style scoped>\n",
       "    .dataframe tbody tr th:only-of-type {\n",
       "        vertical-align: middle;\n",
       "    }\n",
       "\n",
       "    .dataframe tbody tr th {\n",
       "        vertical-align: top;\n",
       "    }\n",
       "\n",
       "    .dataframe thead th {\n",
       "        text-align: right;\n",
       "    }\n",
       "</style>\n",
       "<table border=\"1\" class=\"dataframe\">\n",
       "  <thead>\n",
       "    <tr style=\"text-align: right;\">\n",
       "      <th></th>\n",
       "      <th>headline</th>\n",
       "      <th>body</th>\n",
       "      <th>published</th>\n",
       "      <th>id</th>\n",
       "      <th>fakeness</th>\n",
       "    </tr>\n",
       "  </thead>\n",
       "  <tbody>\n",
       "    <tr>\n",
       "      <th>0</th>\n",
       "      <td>Muslims BUSTED: They Stole Millions In Govâ€™t...</td>\n",
       "      <td>Print They should pay all the back all the mon...</td>\n",
       "      <td>2016-10-26T21:41:00.000+03:00</td>\n",
       "      <td>6a175f46bcd24d39b3e962ad0f29936721db70db</td>\n",
       "      <td>1</td>\n",
       "    </tr>\n",
       "    <tr>\n",
       "      <th>1</th>\n",
       "      <td>Re: Why Did Attorney General Loretta Lynch Ple...</td>\n",
       "      <td>Why Did Attorney General Loretta Lynch Plead T...</td>\n",
       "      <td>2016-10-29T08:47:11.259+03:00</td>\n",
       "      <td>2bdc29d12605ef9cf3f09f9875040a7113be5d5b</td>\n",
       "      <td>1</td>\n",
       "    </tr>\n",
       "    <tr>\n",
       "      <th>2</th>\n",
       "      <td>BREAKING: Weiner Cooperating With FBI On Hilla...</td>\n",
       "      <td>Red State : \\nFox News Sunday reported this mo...</td>\n",
       "      <td>2016-10-31T01:41:49.479+02:00</td>\n",
       "      <td>c70e149fdd53de5e61c29281100b9de0ed268bc3</td>\n",
       "      <td>1</td>\n",
       "    </tr>\n",
       "    <tr>\n",
       "      <th>3</th>\n",
       "      <td>PIN DROP SPEECH BY FATHER OF DAUGHTER Kidnappe...</td>\n",
       "      <td>Email Kayla Mueller was a prisoner and torture...</td>\n",
       "      <td>2016-11-01T05:22:00.000+02:00</td>\n",
       "      <td>7cf7c15731ac2a116dd7f629bd57ea468ed70284</td>\n",
       "      <td>1</td>\n",
       "    </tr>\n",
       "    <tr>\n",
       "      <th>4</th>\n",
       "      <td>FANTASTIC! TRUMP'S 7 POINT PLAN To Reform Heal...</td>\n",
       "      <td>Email HEALTHCARE REFORM TO MAKE AMERICA GREAT ...</td>\n",
       "      <td>2016-11-01T21:56:00.000+02:00</td>\n",
       "      <td>0206b54719c7e241ffe0ad4315b808290dbe6c0f</td>\n",
       "      <td>1</td>\n",
       "    </tr>\n",
       "  </tbody>\n",
       "</table>\n",
       "</div>"
      ],
      "text/plain": [
       "                                            headline  \\\n",
       "0  Muslims BUSTED: They Stole Millions In Govâ€™t...   \n",
       "1  Re: Why Did Attorney General Loretta Lynch Ple...   \n",
       "2  BREAKING: Weiner Cooperating With FBI On Hilla...   \n",
       "3  PIN DROP SPEECH BY FATHER OF DAUGHTER Kidnappe...   \n",
       "4  FANTASTIC! TRUMP'S 7 POINT PLAN To Reform Heal...   \n",
       "\n",
       "                                                body  \\\n",
       "0  Print They should pay all the back all the mon...   \n",
       "1  Why Did Attorney General Loretta Lynch Plead T...   \n",
       "2  Red State : \\nFox News Sunday reported this mo...   \n",
       "3  Email Kayla Mueller was a prisoner and torture...   \n",
       "4  Email HEALTHCARE REFORM TO MAKE AMERICA GREAT ...   \n",
       "\n",
       "                       published                                        id  \\\n",
       "0  2016-10-26T21:41:00.000+03:00  6a175f46bcd24d39b3e962ad0f29936721db70db   \n",
       "1  2016-10-29T08:47:11.259+03:00  2bdc29d12605ef9cf3f09f9875040a7113be5d5b   \n",
       "2  2016-10-31T01:41:49.479+02:00  c70e149fdd53de5e61c29281100b9de0ed268bc3   \n",
       "3  2016-11-01T05:22:00.000+02:00  7cf7c15731ac2a116dd7f629bd57ea468ed70284   \n",
       "4  2016-11-01T21:56:00.000+02:00  0206b54719c7e241ffe0ad4315b808290dbe6c0f   \n",
       "\n",
       "   fakeness  \n",
       "0         1  \n",
       "1         1  \n",
       "2         1  \n",
       "3         1  \n",
       "4         1  "
      ]
     },
     "execution_count": 49,
     "metadata": {},
     "output_type": "execute_result"
    }
   ],
   "source": [
    "df_kaggle.head()"
   ]
  },
  {
   "cell_type": "code",
   "execution_count": 50,
   "metadata": {},
   "outputs": [
    {
     "name": "stdout",
     "output_type": "stream",
     "text": [
      "The number of articles in Gaurdian dataset are 13071\n"
     ]
    }
   ],
   "source": [
    "print(\"The number of articles in Gaurdian dataset are \"+str(df_guard.shape[0]))"
   ]
  },
  {
   "cell_type": "code",
   "execution_count": 51,
   "metadata": {},
   "outputs": [
    {
     "data": {
      "text/html": [
       "<div>\n",
       "<style scoped>\n",
       "    .dataframe tbody tr th:only-of-type {\n",
       "        vertical-align: middle;\n",
       "    }\n",
       "\n",
       "    .dataframe tbody tr th {\n",
       "        vertical-align: top;\n",
       "    }\n",
       "\n",
       "    .dataframe thead th {\n",
       "        text-align: right;\n",
       "    }\n",
       "</style>\n",
       "<table border=\"1\" class=\"dataframe\">\n",
       "  <thead>\n",
       "    <tr style=\"text-align: right;\">\n",
       "      <th></th>\n",
       "      <th>id</th>\n",
       "      <th>published</th>\n",
       "      <th>body</th>\n",
       "      <th>headline</th>\n",
       "      <th>fakeness</th>\n",
       "    </tr>\n",
       "  </thead>\n",
       "  <tbody>\n",
       "    <tr>\n",
       "      <th>0</th>\n",
       "      <td>world/2018/jan/01/ahed-tamimi-palestinian-girl...</td>\n",
       "      <td>2018-01-01T18:14:19Z</td>\n",
       "      <td>A 16-year-old Palestinian girl who was arreste...</td>\n",
       "      <td>Palestinian girl filmed slapping Israeli soldi...</td>\n",
       "      <td>0</td>\n",
       "    </tr>\n",
       "    <tr>\n",
       "      <th>1</th>\n",
       "      <td>world/2018/jan/01/dubai-frame-uaes-latest-surr...</td>\n",
       "      <td>2018-01-01T17:56:01Z</td>\n",
       "      <td>Home to the tallest skyscraper, the largest sh...</td>\n",
       "      <td>Dubai Frame: UAE's latest surreal landmark fra...</td>\n",
       "      <td>0</td>\n",
       "    </tr>\n",
       "    <tr>\n",
       "      <th>2</th>\n",
       "      <td>world/2018/jan/01/arseny-roginsky-obituary</td>\n",
       "      <td>2018-01-01T17:51:24Z</td>\n",
       "      <td>The Russian historian Arseny Roginsky, who has...</td>\n",
       "      <td>Arseny Roginsky obituary</td>\n",
       "      <td>0</td>\n",
       "    </tr>\n",
       "    <tr>\n",
       "      <th>3</th>\n",
       "      <td>world/2018/jan/01/times-up-hollywood-women-lau...</td>\n",
       "      <td>2018-01-01T17:43:38Z</td>\n",
       "      <td>Three hundred female Hollywood actors, agents,...</td>\n",
       "      <td>Time's Up: Hollywood women launch campaign to ...</td>\n",
       "      <td>0</td>\n",
       "    </tr>\n",
       "    <tr>\n",
       "      <th>4</th>\n",
       "      <td>politics/2018/jan/01/nick-boles-third-type-of-...</td>\n",
       "      <td>2018-01-01T17:28:08Z</td>\n",
       "      <td>â€œThoughtfulâ€� Tory MP Nick Boles (Tories sh...</td>\n",
       "      <td>Nick Bolesâ€™ third type of work is an advance...</td>\n",
       "      <td>0</td>\n",
       "    </tr>\n",
       "  </tbody>\n",
       "</table>\n",
       "</div>"
      ],
      "text/plain": [
       "                                                  id             published  \\\n",
       "0  world/2018/jan/01/ahed-tamimi-palestinian-girl...  2018-01-01T18:14:19Z   \n",
       "1  world/2018/jan/01/dubai-frame-uaes-latest-surr...  2018-01-01T17:56:01Z   \n",
       "2         world/2018/jan/01/arseny-roginsky-obituary  2018-01-01T17:51:24Z   \n",
       "3  world/2018/jan/01/times-up-hollywood-women-lau...  2018-01-01T17:43:38Z   \n",
       "4  politics/2018/jan/01/nick-boles-third-type-of-...  2018-01-01T17:28:08Z   \n",
       "\n",
       "                                                body  \\\n",
       "0  A 16-year-old Palestinian girl who was arreste...   \n",
       "1  Home to the tallest skyscraper, the largest sh...   \n",
       "2  The Russian historian Arseny Roginsky, who has...   \n",
       "3  Three hundred female Hollywood actors, agents,...   \n",
       "4  â€œThoughtfulâ€� Tory MP Nick Boles (Tories sh...   \n",
       "\n",
       "                                            headline  fakeness  \n",
       "0  Palestinian girl filmed slapping Israeli soldi...         0  \n",
       "1  Dubai Frame: UAE's latest surreal landmark fra...         0  \n",
       "2                           Arseny Roginsky obituary         0  \n",
       "3  Time's Up: Hollywood women launch campaign to ...         0  \n",
       "4  Nick Bolesâ€™ third type of work is an advance...         0  "
      ]
     },
     "execution_count": 51,
     "metadata": {},
     "output_type": "execute_result"
    }
   ],
   "source": [
    "# Overview for data\n",
    "df_guard.head()"
   ]
  },
  {
   "cell_type": "code",
   "execution_count": 52,
   "metadata": {},
   "outputs": [
    {
     "data": {
      "text/html": [
       "<div>\n",
       "<style scoped>\n",
       "    .dataframe tbody tr th:only-of-type {\n",
       "        vertical-align: middle;\n",
       "    }\n",
       "\n",
       "    .dataframe tbody tr th {\n",
       "        vertical-align: top;\n",
       "    }\n",
       "\n",
       "    .dataframe thead th {\n",
       "        text-align: right;\n",
       "    }\n",
       "</style>\n",
       "<table border=\"1\" class=\"dataframe\">\n",
       "  <thead>\n",
       "    <tr style=\"text-align: right;\">\n",
       "      <th></th>\n",
       "      <th>id</th>\n",
       "      <th>headline</th>\n",
       "      <th>published</th>\n",
       "      <th>body</th>\n",
       "      <th>fakeness</th>\n",
       "    </tr>\n",
       "  </thead>\n",
       "  <tbody>\n",
       "    <tr>\n",
       "      <th>0</th>\n",
       "      <td>5b995d47068401528a2daa07</td>\n",
       "      <td>Are You Teaching the Midterms?\"</td>\n",
       "      <td>2018-09-12T18:39:00+0000</td>\n",
       "      <td>A primary season that has already been full of...</td>\n",
       "      <td>0</td>\n",
       "    </tr>\n",
       "    <tr>\n",
       "      <th>1</th>\n",
       "      <td>5b995d8f068401528a2daa08</td>\n",
       "      <td>You Need to Know to Vote in New York’s Primary \"</td>\n",
       "      <td>2018-09-12T18:40:12+0000</td>\n",
       "      <td>On Thursday — yes, Thursday — voters across Ne...</td>\n",
       "      <td>0</td>\n",
       "    </tr>\n",
       "    <tr>\n",
       "      <th>2</th>\n",
       "      <td>5b995e89068401528a2daa0a</td>\n",
       "      <td>Best Photos From New York Fashion Week</td>\n",
       "      <td>2018-09-12T18:44:21+0000</td>\n",
       "      <td>The sixth day of New York Fashion Week was hos...</td>\n",
       "      <td>0</td>\n",
       "    </tr>\n",
       "    <tr>\n",
       "      <th>3</th>\n",
       "      <td>5b996210068401528a2daa10</td>\n",
       "      <td>Blue</td>\n",
       "      <td>2018-09-12T18:59:25+0000</td>\n",
       "      <td>Out of the blackness of the deep, deep ocean c...</td>\n",
       "      <td>0</td>\n",
       "    </tr>\n",
       "    <tr>\n",
       "      <th>4</th>\n",
       "      <td>5b99668d068401528a2daa19</td>\n",
       "      <td>Owens to Guest Star on ‘NCIS: New Orleans’\"</td>\n",
       "      <td>2018-09-12T19:18:35+0000</td>\n",
       "      <td>Geoffrey Owens is on the comeback trail. The f...</td>\n",
       "      <td>0</td>\n",
       "    </tr>\n",
       "  </tbody>\n",
       "</table>\n",
       "</div>"
      ],
      "text/plain": [
       "                         id                                          headline  \\\n",
       "0  5b995d47068401528a2daa07                   Are You Teaching the Midterms?\"   \n",
       "1  5b995d8f068401528a2daa08  You Need to Know to Vote in New York’s Primary \"   \n",
       "2  5b995e89068401528a2daa0a            Best Photos From New York Fashion Week   \n",
       "3  5b996210068401528a2daa10                                              Blue   \n",
       "4  5b99668d068401528a2daa19       Owens to Guest Star on ‘NCIS: New Orleans’\"   \n",
       "\n",
       "                  published  \\\n",
       "0  2018-09-12T18:39:00+0000   \n",
       "1  2018-09-12T18:40:12+0000   \n",
       "2  2018-09-12T18:44:21+0000   \n",
       "3  2018-09-12T18:59:25+0000   \n",
       "4  2018-09-12T19:18:35+0000   \n",
       "\n",
       "                                                body  fakeness  \n",
       "0  A primary season that has already been full of...         0  \n",
       "1  On Thursday — yes, Thursday — voters across Ne...         0  \n",
       "2  The sixth day of New York Fashion Week was hos...         0  \n",
       "3  Out of the blackness of the deep, deep ocean c...         0  \n",
       "4  Geoffrey Owens is on the comeback trail. The f...         0  "
      ]
     },
     "execution_count": 52,
     "metadata": {},
     "output_type": "execute_result"
    }
   ],
   "source": [
    "df_nyt.head()"
   ]
  },
  {
   "cell_type": "code",
   "execution_count": 53,
   "metadata": {},
   "outputs": [
    {
     "name": "stderr",
     "output_type": "stream",
     "text": [
      "C:\\Users\\Nandini\\Anaconda3\\lib\\site-packages\\pandas\\core\\frame.py:6201: FutureWarning: Sorting because non-concatenation axis is not aligned. A future version\n",
      "of pandas will change to not sort by default.\n",
      "\n",
      "To accept the future behavior, pass 'sort=True'.\n",
      "\n",
      "To retain the current behavior and silence the warning, pass sort=False\n",
      "\n",
      "  sort=sort)\n"
     ]
    }
   ],
   "source": [
    "# Concat the datasents\n",
    "df = df_kaggle.append(df_guard, ignore_index=True)\n",
    "df=df.append(df_nyt,ignore_index=True)"
   ]
  },
  {
   "cell_type": "code",
   "execution_count": 54,
   "metadata": {},
   "outputs": [
    {
     "name": "stdout",
     "output_type": "stream",
     "text": [
      "(27610, 5)\n",
      "<class 'pandas.core.frame.DataFrame'>\n",
      "Int64Index: 27610 entries, 0 to 27680\n",
      "Data columns (total 5 columns):\n",
      "body         27610 non-null object\n",
      "fakeness     27610 non-null int64\n",
      "headline     27610 non-null object\n",
      "id           27610 non-null object\n",
      "published    27610 non-null object\n",
      "dtypes: int64(1), object(4)\n",
      "memory usage: 1.3+ MB\n"
     ]
    }
   ],
   "source": [
    "#Dropping the Nan values and info\n",
    "df.dropna(inplace=True)\n",
    "print(df.shape)\n",
    "df.info()"
   ]
  },
  {
   "cell_type": "code",
   "execution_count": 55,
   "metadata": {},
   "outputs": [
    {
     "data": {
      "text/html": [
       "<div>\n",
       "<style scoped>\n",
       "    .dataframe tbody tr th:only-of-type {\n",
       "        vertical-align: middle;\n",
       "    }\n",
       "\n",
       "    .dataframe tbody tr th {\n",
       "        vertical-align: top;\n",
       "    }\n",
       "\n",
       "    .dataframe thead th {\n",
       "        text-align: right;\n",
       "    }\n",
       "</style>\n",
       "<table border=\"1\" class=\"dataframe\">\n",
       "  <thead>\n",
       "    <tr style=\"text-align: right;\">\n",
       "      <th></th>\n",
       "      <th>body</th>\n",
       "      <th>fakeness</th>\n",
       "      <th>headline</th>\n",
       "      <th>id</th>\n",
       "      <th>published</th>\n",
       "    </tr>\n",
       "  </thead>\n",
       "  <tbody>\n",
       "    <tr>\n",
       "      <th>0</th>\n",
       "      <td>Print They should pay all the back all the mon...</td>\n",
       "      <td>1</td>\n",
       "      <td>Muslims BUSTED: They Stole Millions In Govâ€™t...</td>\n",
       "      <td>6a175f46bcd24d39b3e962ad0f29936721db70db</td>\n",
       "      <td>2016-10-26T21:41:00.000+03:00</td>\n",
       "    </tr>\n",
       "    <tr>\n",
       "      <th>1</th>\n",
       "      <td>Why Did Attorney General Loretta Lynch Plead T...</td>\n",
       "      <td>1</td>\n",
       "      <td>Re: Why Did Attorney General Loretta Lynch Ple...</td>\n",
       "      <td>2bdc29d12605ef9cf3f09f9875040a7113be5d5b</td>\n",
       "      <td>2016-10-29T08:47:11.259+03:00</td>\n",
       "    </tr>\n",
       "    <tr>\n",
       "      <th>2</th>\n",
       "      <td>Red State : \\nFox News Sunday reported this mo...</td>\n",
       "      <td>1</td>\n",
       "      <td>BREAKING: Weiner Cooperating With FBI On Hilla...</td>\n",
       "      <td>c70e149fdd53de5e61c29281100b9de0ed268bc3</td>\n",
       "      <td>2016-10-31T01:41:49.479+02:00</td>\n",
       "    </tr>\n",
       "    <tr>\n",
       "      <th>3</th>\n",
       "      <td>Email Kayla Mueller was a prisoner and torture...</td>\n",
       "      <td>1</td>\n",
       "      <td>PIN DROP SPEECH BY FATHER OF DAUGHTER Kidnappe...</td>\n",
       "      <td>7cf7c15731ac2a116dd7f629bd57ea468ed70284</td>\n",
       "      <td>2016-11-01T05:22:00.000+02:00</td>\n",
       "    </tr>\n",
       "    <tr>\n",
       "      <th>4</th>\n",
       "      <td>Email HEALTHCARE REFORM TO MAKE AMERICA GREAT ...</td>\n",
       "      <td>1</td>\n",
       "      <td>FANTASTIC! TRUMP'S 7 POINT PLAN To Reform Heal...</td>\n",
       "      <td>0206b54719c7e241ffe0ad4315b808290dbe6c0f</td>\n",
       "      <td>2016-11-01T21:56:00.000+02:00</td>\n",
       "    </tr>\n",
       "  </tbody>\n",
       "</table>\n",
       "</div>"
      ],
      "text/plain": [
       "                                                body  fakeness  \\\n",
       "0  Print They should pay all the back all the mon...         1   \n",
       "1  Why Did Attorney General Loretta Lynch Plead T...         1   \n",
       "2  Red State : \\nFox News Sunday reported this mo...         1   \n",
       "3  Email Kayla Mueller was a prisoner and torture...         1   \n",
       "4  Email HEALTHCARE REFORM TO MAKE AMERICA GREAT ...         1   \n",
       "\n",
       "                                            headline  \\\n",
       "0  Muslims BUSTED: They Stole Millions In Govâ€™t...   \n",
       "1  Re: Why Did Attorney General Loretta Lynch Ple...   \n",
       "2  BREAKING: Weiner Cooperating With FBI On Hilla...   \n",
       "3  PIN DROP SPEECH BY FATHER OF DAUGHTER Kidnappe...   \n",
       "4  FANTASTIC! TRUMP'S 7 POINT PLAN To Reform Heal...   \n",
       "\n",
       "                                         id                      published  \n",
       "0  6a175f46bcd24d39b3e962ad0f29936721db70db  2016-10-26T21:41:00.000+03:00  \n",
       "1  2bdc29d12605ef9cf3f09f9875040a7113be5d5b  2016-10-29T08:47:11.259+03:00  \n",
       "2  c70e149fdd53de5e61c29281100b9de0ed268bc3  2016-10-31T01:41:49.479+02:00  \n",
       "3  7cf7c15731ac2a116dd7f629bd57ea468ed70284  2016-11-01T05:22:00.000+02:00  \n",
       "4  0206b54719c7e241ffe0ad4315b808290dbe6c0f  2016-11-01T21:56:00.000+02:00  "
      ]
     },
     "execution_count": 55,
     "metadata": {},
     "output_type": "execute_result"
    }
   ],
   "source": [
    "df.head()"
   ]
  },
  {
   "cell_type": "code",
   "execution_count": 1,
   "metadata": {},
   "outputs": [
    {
     "ename": "NameError",
     "evalue": "name 'df' is not defined",
     "output_type": "error",
     "traceback": [
      "\u001b[1;31m---------------------------------------------------------------------------\u001b[0m",
      "\u001b[1;31mNameError\u001b[0m                                 Traceback (most recent call last)",
      "\u001b[1;32m<ipython-input-1-f07fb42aa90d>\u001b[0m in \u001b[0;36m<module>\u001b[1;34m()\u001b[0m\n\u001b[1;32m----> 1\u001b[1;33m \u001b[0mdf\u001b[0m\u001b[1;33m.\u001b[0m\u001b[0mto_csv\u001b[0m\u001b[1;33m(\u001b[0m\u001b[1;34m\"C:/Users/Vidyajay/Desktop/SourceCode/Cleaning Data/final.csv\"\u001b[0m\u001b[1;33m)\u001b[0m\u001b[1;33m\u001b[0m\u001b[0m\n\u001b[0m\u001b[0;32m      2\u001b[0m \u001b[0mdf\u001b[0m\u001b[1;33m=\u001b[0m\u001b[0mpd\u001b[0m\u001b[1;33m.\u001b[0m\u001b[0mread_csv\u001b[0m\u001b[1;33m(\u001b[0m\u001b[1;34m\"C:/Users/Vidyajay/Desktop/SourceCode/Cleaning Data/final.csv\"\u001b[0m\u001b[1;33m)\u001b[0m\u001b[1;33m\u001b[0m\u001b[0m\n",
      "\u001b[1;31mNameError\u001b[0m: name 'df' is not defined"
     ]
    }
   ],
   "source": [
    "df.to_csv(\"C:/Users/Vidyajay/Desktop/SourceCode/Cleaning Data/final.csv\")\n",
    "df=pd.read_csv(\"C:Users/Vidyajay/Desktop/SourceCode/Cleaning Data/final.csv\")"
   ]
  },
  {
   "cell_type": "code",
   "execution_count": 6,
   "metadata": {},
   "outputs": [],
   "source": [
    "df=pd.read_csv(\"C:/Users/Vidyajay/Desktop/SourceCode/Cleaning Data/final.csv\")"
   ]
  },
  {
   "cell_type": "code",
   "execution_count": 98,
   "metadata": {},
   "outputs": [
    {
     "data": {
      "text/plain": [
       "(27610, 7)"
      ]
     },
     "execution_count": 98,
     "metadata": {},
     "output_type": "execute_result"
    }
   ],
   "source": [
    "df.shape"
   ]
  },
  {
   "cell_type": "code",
   "execution_count": 99,
   "metadata": {},
   "outputs": [],
   "source": [
    "#modeling"
   ]
  },
  {
   "cell_type": "code",
   "execution_count": 7,
   "metadata": {},
   "outputs": [],
   "source": [
    "tdf = TfidfVectorizer(stop_words='english',ngram_range=(1,2),max_df=0.85, min_df=0.01 )\n",
    "X_body=tdf.fit_transform(df.body)\n",
    "X_headline=tdf.fit_transform(df.headline)\n",
    "Y=df.fakeness"
   ]
  },
  {
   "cell_type": "code",
   "execution_count": 8,
   "metadata": {},
   "outputs": [
    {
     "name": "stderr",
     "output_type": "stream",
     "text": [
      "C:\\Users\\Nandini\\Anaconda3\\lib\\site-packages\\sklearn\\cross_validation.py:41: DeprecationWarning: This module was deprecated in version 0.18 in favor of the model_selection module into which all the refactored classes and functions are moved. Also note that the interface of the new CV iterators are different from that of this module. This module will be removed in 0.20.\n",
      "  \"This module will be removed in 0.20.\", DeprecationWarning)\n"
     ]
    }
   ],
   "source": [
    "from sklearn.cross_validation import train_test_split\n",
    "X_headline_train, X_headline_test, y_headline_train, y_headline_test = train_test_split(X_headline,Y, test_size = 0.25, random_state=420)\n",
    "X_body_train, X_body_test, y_body_train, y_body_test = train_test_split(X_body,Y, test_size = 0.25, random_state=420)"
   ]
  },
  {
   "cell_type": "code",
   "execution_count": 3,
   "metadata": {},
   "outputs": [
    {
     "name": "stderr",
     "output_type": "stream",
     "text": [
      "C:\\Users\\Vidyajay\\Anaconda3\\lib\\site-packages\\sklearn\\ensemble\\weight_boosting.py:29: DeprecationWarning: numpy.core.umath_tests is an internal NumPy module and should not be imported. It will be removed in a future NumPy release.\n",
      "  from numpy.core.umath_tests import inner1d\n"
     ]
    }
   ],
   "source": [
    "#Random Forest\n",
    "#Using headlines from the dataset\n",
    "from sklearn.ensemble import RandomForestClassifier"
   ]
  },
  {
   "cell_type": "code",
   "execution_count": 10,
   "metadata": {},
   "outputs": [],
   "source": [
    "rcf_headline = RandomForestClassifier(n_estimators=100,n_jobs=3)"
   ]
  },
  {
   "cell_type": "code",
   "execution_count": 11,
   "metadata": {},
   "outputs": [],
   "source": [
    "rcf_headline.fit(X_headline_train, y_headline_train)\n",
    "y_rc_headline_pred = rcf_headline.predict(X_headline_test)"
   ]
  },
  {
   "cell_type": "code",
   "execution_count": 12,
   "metadata": {},
   "outputs": [
    {
     "name": "stdout",
     "output_type": "stream",
     "text": [
      "Random Forest F1 and Accuracy Scores : \n",
      "\n",
      "F1 score 64.58%\n",
      "Accuracy score 69.52%\n"
     ]
    }
   ],
   "source": [
    "# print metrics\n",
    "print (\"Random Forest F1 and Accuracy Scores : \\n\")\n",
    "print ( \"F1 score {:.4}%\".format( f1_score(y_headline_test, y_rc_headline_pred, average='macro')*100 ) )\n",
    "print ( \"Accuracy score {:.4}%\".format(accuracy_score(y_headline_test, y_rc_headline_pred)*100) )"
   ]
  },
  {
   "cell_type": "code",
   "execution_count": 2,
   "metadata": {},
   "outputs": [
    {
     "ename": "NameError",
     "evalue": "name 'y_headline_test' is not defined",
     "output_type": "error",
     "traceback": [
      "\u001b[1;31m---------------------------------------------------------------------------\u001b[0m",
      "\u001b[1;31mNameError\u001b[0m                                 Traceback (most recent call last)",
      "\u001b[1;32m<ipython-input-2-80e5e109bdb9>\u001b[0m in \u001b[0;36m<module>\u001b[1;34m()\u001b[0m\n\u001b[0;32m      1\u001b[0m \u001b[1;32mfrom\u001b[0m \u001b[0msklearn\u001b[0m\u001b[1;33m.\u001b[0m\u001b[0mmetrics\u001b[0m \u001b[1;32mimport\u001b[0m \u001b[0mconfusion_matrix\u001b[0m\u001b[1;33m\u001b[0m\u001b[0m\n\u001b[1;32m----> 2\u001b[1;33m \u001b[0my_true\u001b[0m \u001b[1;33m=\u001b[0m \u001b[0my_headline_test\u001b[0m\u001b[1;33m\u001b[0m\u001b[0m\n\u001b[0m\u001b[0;32m      3\u001b[0m \u001b[0my_pred\u001b[0m \u001b[1;33m=\u001b[0m \u001b[0mrcf_headline\u001b[0m\u001b[1;33m.\u001b[0m\u001b[0mpredict\u001b[0m\u001b[1;33m(\u001b[0m\u001b[0mX_headline_test\u001b[0m\u001b[1;33m)\u001b[0m\u001b[1;33m\u001b[0m\u001b[0m\n\u001b[0;32m      4\u001b[0m \u001b[1;32mimport\u001b[0m \u001b[0mscikitplot\u001b[0m\u001b[1;33m.\u001b[0m\u001b[0mplotters\u001b[0m \u001b[1;32mas\u001b[0m \u001b[0mskplt\u001b[0m\u001b[1;33m\u001b[0m\u001b[0m\n\u001b[0;32m      5\u001b[0m \u001b[1;32mdef\u001b[0m \u001b[0mplot_cmat\u001b[0m\u001b[1;33m(\u001b[0m\u001b[0my_test\u001b[0m\u001b[1;33m,\u001b[0m \u001b[0my_pred\u001b[0m\u001b[1;33m)\u001b[0m\u001b[1;33m:\u001b[0m\u001b[1;33m\u001b[0m\u001b[0m\n",
      "\u001b[1;31mNameError\u001b[0m: name 'y_headline_test' is not defined"
     ]
    }
   ],
   "source": [
    "from sklearn.metrics import confusion_matrix\n",
    "y_true = y_headline_test\n",
    "y_pred = rcf_headline.predict(X_headline_test)\n",
    "import scikitplot.plotters as skplt\n",
    "def plot_cmat(y_test, y_pred):\n",
    "    skplt.plot_confusion_matrix(y_test,y_pred)\n",
    "    plt.show()\n",
    "    \n",
    "plot_cmat(y_true, y_pred)\n",
    "print(\"confusion matrix of random forest of headlines\")\n"
   ]
  },
  {
   "cell_type": "code",
   "execution_count": 163,
   "metadata": {},
   "outputs": [],
   "source": [
    "#Random Forest\n",
    "#Using body from the dataset\n"
   ]
  },
  {
   "cell_type": "code",
   "execution_count": 15,
   "metadata": {},
   "outputs": [],
   "source": [
    "rcf_body = RandomForestClassifier(n_estimators=100,n_jobs=3)"
   ]
  },
  {
   "cell_type": "code",
   "execution_count": 16,
   "metadata": {},
   "outputs": [],
   "source": [
    "rcf_body.fit(X_body_train, y_body_train)\n",
    "y_rc_body_pred = rcf_body.predict(X_body_test)"
   ]
  },
  {
   "cell_type": "code",
   "execution_count": 17,
   "metadata": {},
   "outputs": [
    {
     "name": "stdout",
     "output_type": "stream",
     "text": [
      "Random Forest F1 and Accuracy Scores : \n",
      "\n",
      "F1 score 93.9%\n",
      "Accuracy score 94.09%\n"
     ]
    }
   ],
   "source": [
    "# print metrics\n",
    "print (\"Random Forest F1 and Accuracy Scores : \\n\")\n",
    "print ( \"F1 score {:.4}%\".format( f1_score(y_body_test, y_rc_body_pred, average='macro')*100 ) )\n",
    "print ( \"Accuracy score {:.4}%\".format(accuracy_score(y_body_test, y_rc_body_pred)*100) )"
   ]
  },
  {
   "cell_type": "code",
   "execution_count": 18,
   "metadata": {},
   "outputs": [
    {
     "data": {
      "text/plain": [
       "(6903,)"
      ]
     },
     "execution_count": 18,
     "metadata": {},
     "output_type": "execute_result"
    }
   ],
   "source": [
    "y_body_test.shape"
   ]
  },
  {
   "cell_type": "code",
   "execution_count": 19,
   "metadata": {},
   "outputs": [
    {
     "name": "stderr",
     "output_type": "stream",
     "text": [
      "C:\\Users\\Nandini\\Anaconda3\\lib\\site-packages\\sklearn\\utils\\deprecation.py:77: DeprecationWarning: Function plot_confusion_matrix is deprecated; This will be removed in v0.4.0. Please use scikitplot.metrics.plot_confusion_matrix instead.\n",
      "  warnings.warn(msg, category=DeprecationWarning)\n",
      "C:\\Users\\Nandini\\Anaconda3\\lib\\site-packages\\matplotlib\\cbook\\deprecation.py:107: MatplotlibDeprecationWarning: Passing one of 'on', 'true', 'off', 'false' as a boolean is deprecated; use an actual boolean (True/False) instead.\n",
      "  warnings.warn(message, mplDeprecation, stacklevel=1)\n"
     ]
    },
    {
     "data": {
      "image/png": "[encoded data removed]",
      "text/plain": [
       "<Figure size 432x288 with 2 Axes>"
      ]
     },
     "metadata": {
      "image/png": {
       "height": 277,
       "width": 319
      }
     },
     "output_type": "display_data"
    },
    {
     "name": "stdout",
     "output_type": "stream",
     "text": [
      "confusion matrix of random forest\n"
     ]
    }
   ],
   "source": [
    "import scikitplot.plotters as skplt\n",
    "def plot_cmat(y_test, y_pred):\n",
    "    skplt.plot_confusion_matrix(y_test,y_pred)\n",
    "    plt.show()\n",
    "    \n",
    "plot_cmat(y_body_test, y_rc_body_pred)\n",
    "print(\"confusion matrix of random forest\")"
   ]
  },
  {
   "cell_type": "code",
   "execution_count": null,
   "metadata": {},
   "outputs": [],
   "source": []
  }
 ],
 "metadata": {
  "kernelspec": {
   "display_name": "Python 3",
   "language": "python",
   "name": "python3"
  },
  "language_info": {
   "codemirror_mode": {
    "name": "ipython",
    "version": 3
   },
   "file_extension": ".py",
   "mimetype": "text/x-python",
   "name": "python",
   "nbconvert_exporter": "python",
   "pygments_lexer": "ipython3",
   "version": "3.7.0"
  }
 },
 "nbformat": 4,
 "nbformat_minor": 2
}
