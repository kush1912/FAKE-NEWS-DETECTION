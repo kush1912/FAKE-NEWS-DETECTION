{
 "cells": [
  {
   "cell_type": "code",
   "execution_count": 1,
   "metadata": {},
   "outputs": [
    {
     "ename": "FileNotFoundError",
     "evalue": "[Errno 2] No such file or directory: 'C:/Users/Vidyajay/Desktop/FAKESEWSDETECTION/SourceCode/Scraping data/Guardian_API.txt'",
     "output_type": "error",
     "traceback": [
      "\u001b[1;31m---------------------------------------------------------------------------\u001b[0m",
      "\u001b[1;31mFileNotFoundError\u001b[0m                         Traceback (most recent call last)",
      "\u001b[1;32m<ipython-input-1-9234b878a20e>\u001b[0m in \u001b[0;36m<module>\u001b[1;34m()\u001b[0m\n\u001b[0;32m      9\u001b[0m \u001b[1;33m\u001b[0m\u001b[0m\n\u001b[0;32m     10\u001b[0m \u001b[1;33m\u001b[0m\u001b[0m\n\u001b[1;32m---> 11\u001b[1;33m \u001b[0mMY_API_KEY\u001b[0m \u001b[1;33m=\u001b[0m \u001b[0mopen\u001b[0m\u001b[1;33m(\u001b[0m\u001b[1;34mr\"C:/Users/Vidyajay/Desktop/FAKESEWSDETECTION/SourceCode/Scraping data/Guardian_API.txt\"\u001b[0m\u001b[1;33m)\u001b[0m\u001b[1;33m.\u001b[0m\u001b[0mread\u001b[0m\u001b[1;33m(\u001b[0m\u001b[1;33m)\u001b[0m\u001b[1;33m.\u001b[0m\u001b[0mstrip\u001b[0m\u001b[1;33m(\u001b[0m\u001b[1;33m)\u001b[0m\u001b[1;33m\u001b[0m\u001b[0m\n\u001b[0m\u001b[0;32m     12\u001b[0m \u001b[0mAPI_ENDPOINT\u001b[0m \u001b[1;33m=\u001b[0m \u001b[1;34m'http://content.guardianapis.com/search'\u001b[0m\u001b[1;33m\u001b[0m\u001b[0m\n\u001b[0;32m     13\u001b[0m my_params = {\n",
      "\u001b[1;31mFileNotFoundError\u001b[0m: [Errno 2] No such file or directory: 'C:/Users/Vidyajay/Desktop/FAKESEWSDETECTION/SourceCode/Scraping data/Guardian_API.txt'"
     ]
    }
   ],
   "source": [
    "import json\n",
    "import requests\n",
    "from os import makedirs                      \n",
    "from os.path import join, exists\n",
    "from datetime import date, timedelta\n",
    "\n",
    "ARTICLES_DIR = join('tempdata', 'articles')\n",
    "makedirs(ARTICLES_DIR, exist_ok=True)\n",
    "\n",
    "\n",
    "MY_API_KEY = open(r\"C:/Users/Vidyajay/Desktop/FAKESEWSDETECTION/SourceCode/Scraping data/Guardian_API.txt\").read().strip()\n",
    "API_ENDPOINT = 'http://content.guardianapis.com/search'\n",
    "my_params = {\n",
    "    'from-date': \"\",\n",
    "    'to-date': \"\",\n",
    "    'order-by': \"newest\",\n",
    "    'show-fields': 'all',\n",
    "    'page-size': 200,\n",
    "    'api-key': MY_API_KEY\n",
    "}\n",
    "\n",
    "start_date = date(2018, 1, 1)\n",
    "end_date = date(2018,10, 1)\n",
    "dayrange = range((end_date - start_date).days + 1)\n",
    "for daycount in dayrange:\n",
    "    dt = start_date + timedelta(days=daycount)\n",
    "    datestr = dt.strftime('%Y-%m-%d')\n",
    "    fname = join(ARTICLES_DIR, datestr + '.json')\n",
    "    if not exists(fname):\n",
    "        #  download \n",
    "        print(\"Downloading\", datestr)\n",
    "        all_results = []\n",
    "        my_params['from-date'] = datestr\n",
    "        my_params['to-date'] = datestr\n",
    "        current_page = 1\n",
    "        total_pages = 1\n",
    "        while current_page <= total_pages:\n",
    "            print(\"...page\", current_page)\n",
    "            my_params['page'] = current_page\n",
    "            resp = requests.get(API_ENDPOINT, my_params)\n",
    "            data = resp.json()\n",
    "            all_results.extend(data['response']['results'])\n",
    "            # if there is more than one page\n",
    "            current_page += 1\n",
    "            total_pages = data['response']['pages']\n",
    "\n",
    "        with open(fname, 'w') as f:\n",
    "            print(\"Writing to\", fname)\n",
    "\n",
    "            # re-serialize it for indentation\n",
    "            f.write(json.dumps(all_results, indent=2))"
   ]
  },
  {
   "cell_type": "code",
   "execution_count": null,
   "metadata": {},
   "outputs": [],
   "source": []
  }
 ],
 "metadata": {
  "kernelspec": {
   "display_name": "Python 3",
   "language": "python",
   "name": "python3"
  },
  "language_info": {
   "codemirror_mode": {
    "name": "ipython",
    "version": 3
   },
   "file_extension": ".py",
   "mimetype": "text/x-python",
   "name": "python",
   "nbconvert_exporter": "python",
   "pygments_lexer": "ipython3",
   "version": "3.7.0"
  }
 },
 "nbformat": 4,
 "nbformat_minor": 2
}
