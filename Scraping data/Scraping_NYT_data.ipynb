{
 "cells": [
  {
   "cell_type": "code",
   "execution_count": 17,
   "metadata": {},
   "outputs": [],
   "source": [
    "import requests, pymongo, json, time\n",
    "from datetime import datetime\n",
    "from dateutil.relativedelta import relativedelta\n",
    "from bs4 import BeautifulSoup"
   ]
  },
  {
   "cell_type": "code",
   "execution_count": 18,
   "metadata": {},
   "outputs": [],
   "source": [
    "client = pymongo.MongoClient()"
   ]
  },
  {
   "cell_type": "code",
   "execution_count": 19,
   "metadata": {},
   "outputs": [],
   "source": [
    "def init_mongo_client():\n",
    "    \n",
    "    client = pymongo.MongoClient()\n",
    "    db = client.nyt\n",
    "    coll = db.NYT_Articles\n",
    "    return db.articles\n",
    "\n",
    "\n",
    "def call_api(url, payload, p=0):\n",
    "    payload['page'] = p\n",
    "    return requests.get(url, params=payload)\n",
    "\n",
    "\n",
    "def get_response(r):\n",
    "    raw = json.loads(r.text)\n",
    "    return raw['response']['meta'], raw['response']['docs']\n",
    "\n",
    "\n",
    "def get_soup(url):\n",
    "    agent  = 'DataWrangling/1.1 (http://zipfianacademy.com; '\n",
    "    agent += 'class@zipfianacademy.com)'\n",
    "    headers = {'user_agent': agent}\n",
    "\n",
    "    try:\n",
    "        r = requests.get(url, headers=headers)\n",
    "    except:\n",
    "        return None\n",
    "\n",
    "    if r.status_code != 200: return None\n",
    "    return BeautifulSoup(r.text.encode('utf-8'),\"lxml\")\n",
    "\n",
    "\n",
    "def get_body_text(docs):\n",
    "\n",
    "    result = []\n",
    "    for d in docs:\n",
    "        doc = d.copy()\n",
    "        if not doc['web_url']:\n",
    "            continue\n",
    "\n",
    "        soup = get_soup(doc['web_url'])\n",
    "        if not soup:\n",
    "            continue\n",
    "\n",
    "\n",
    "        body = soup.find_all('p', class_= \"css-xhhu0i\")\n",
    "        if not body:\n",
    "            continue\n",
    "\n",
    "        # Join the resulting body paragraphs' text (returned in a list).\n",
    "        doc['body'] = '\\n'.join([x.get_text() for x in body])\n",
    "\n",
    "        print (doc['web_url'])\n",
    "        result.append(doc)\n",
    "\n",
    "    return result\n",
    "\n",
    "\n",
    "def remove_previously_scraped(coll, docs):\n",
    "    \n",
    "    new_docs = []\n",
    "    for doc in docs:\n",
    "        \n",
    "        cursor = articles.find({'_id': doc['_id']}).limit(1)\n",
    "        if not cursor.count() > 0:\n",
    "            new_docs.append(doc)\n",
    "\n",
    "    if new_docs == []:\n",
    "        return None\n",
    "\n",
    "    return new_docs\n",
    "\n",
    "\n",
    "def get_end_date(dt):\n",
    "    # String-ify the datetime object to YYYMMDD, which the NYT likes.\n",
    "    yr   = str(dt.year)\n",
    "    mon = '0' * (2 - len(str(dt.month))) + str(dt.month)\n",
    "    day = '0' * (2 - len(str(dt.day))) + str(dt.day)\n",
    "    return yr + mon + day\n",
    "\n",
    "\n",
    "def scrape_articles(coll, last_date):\n",
    "    page = 0\n",
    "    while page <= 199:\n",
    "        print ('Page:', page)\n",
    "\n",
    "        payload  = {'sort': 'newest',\n",
    "                    'end_date': get_end_date(last_date),\n",
    "                    'api-key': API_KEY\n",
    "                   }\n",
    "        \n",
    "        r = call_api(NYT_URL, payload, page)\n",
    "        page += 1\n",
    "        if r.status_code != 200:\n",
    "            page = 0\n",
    "            last_date += relativedelta(days=-1)\n",
    "            print ('End Date:', get_end_date(last_date))\n",
    "            print (r.status_code )\n",
    "            time.sleep(2)\n",
    "            continue\n",
    "            \n",
    "        # Get the meta data & documents from the request\n",
    "        meta, docs = get_response(r)\n",
    "\n",
    "        # Check if docs are already in the database\n",
    "        new_docs = remove_previously_scraped(coll, docs)\n",
    "        if not new_docs: continue\n",
    "\n",
    "        # Grab only the docs that have these tags\n",
    "        docs_with_body = get_body_text(new_docs)\n",
    "\n",
    "        for doc in docs_with_body:\n",
    "            try:\n",
    "                coll.insert_one(doc)\n",
    "            except:\n",
    "                continue"
   ]
  },
  {
   "cell_type": "code",
   "execution_count": 20,
   "metadata": {},
   "outputs": [],
   "source": [
    "# Url for NYT dev api\n",
    "NYT_URL = 'http://api.nytimes.com/svc/search/v2/articlesearch.json'\n",
    "api_key_path = \"C:/Users/Vidyajay/Desktop/FAKENEWSDETECTION/SourceCode/Scraping data/NYT_API_Key.txt\""
   ]
  },
  {
   "cell_type": "code",
   "execution_count": 21,
   "metadata": {},
   "outputs": [],
   "source": [
    "with open(api_key_path, 'r') as handle:\n",
    "    API_KEY = handle.read()"
   ]
  },
  {
   "cell_type": "code",
   "execution_count": 22,
   "metadata": {},
   "outputs": [],
   "source": [
    "articles = init_mongo_client()"
   ]
  },
  {
   "cell_type": "code",
   "execution_count": 23,
   "metadata": {},
   "outputs": [],
   "source": [
    "last_date = datetime.now() + relativedelta(days=-2)"
   ]
  },
  {
   "cell_type": "code",
   "execution_count": 24,
   "metadata": {},
   "outputs": [
    {
     "name": "stdout",
     "output_type": "stream",
     "text": [
      "Page: 0\n",
      "End Date: 20181004\n",
      "429\n",
      "Page: 0\n",
      "End Date: 20181003\n",
      "429\n",
      "Page: 0\n",
      "End Date: 20181002\n",
      "429\n",
      "Page: 0\n",
      "End Date: 20181001\n",
      "429\n",
      "Page: 0\n",
      "End Date: 20180930\n",
      "429\n"
     ]
    },
    {
     "ename": "KeyboardInterrupt",
     "evalue": "",
     "output_type": "error",
     "traceback": [
      "\u001b[1;31m---------------------------------------------------------------------------\u001b[0m",
      "\u001b[1;31mKeyboardInterrupt\u001b[0m                         Traceback (most recent call last)",
      "\u001b[1;32m<ipython-input-24-238afb07e7cf>\u001b[0m in \u001b[0;36m<module>\u001b[1;34m()\u001b[0m\n\u001b[0;32m      1\u001b[0m \u001b[1;31m# Pass the database collection and initial end date into main function\u001b[0m\u001b[1;33m\u001b[0m\u001b[1;33m\u001b[0m\u001b[0m\n\u001b[1;32m----> 2\u001b[1;33m \u001b[0mscrape_articles\u001b[0m\u001b[1;33m(\u001b[0m\u001b[0marticles\u001b[0m\u001b[1;33m,\u001b[0m \u001b[0mlast_date\u001b[0m\u001b[1;33m)\u001b[0m\u001b[1;33m\u001b[0m\u001b[0m\n\u001b[0m",
      "\u001b[1;32m<ipython-input-19-d8a6bdccc799>\u001b[0m in \u001b[0;36mscrape_articles\u001b[1;34m(coll, last_date)\u001b[0m\n\u001b[0;32m    137\u001b[0m             \u001b[0mprint\u001b[0m \u001b[1;33m(\u001b[0m\u001b[1;34m'End Date:'\u001b[0m\u001b[1;33m,\u001b[0m \u001b[0mget_end_date\u001b[0m\u001b[1;33m(\u001b[0m\u001b[0mlast_date\u001b[0m\u001b[1;33m)\u001b[0m\u001b[1;33m)\u001b[0m\u001b[1;33m\u001b[0m\u001b[0m\n\u001b[0;32m    138\u001b[0m             \u001b[0mprint\u001b[0m \u001b[1;33m(\u001b[0m\u001b[0mr\u001b[0m\u001b[1;33m.\u001b[0m\u001b[0mstatus_code\u001b[0m \u001b[1;33m)\u001b[0m\u001b[1;33m\u001b[0m\u001b[0m\n\u001b[1;32m--> 139\u001b[1;33m             \u001b[0mtime\u001b[0m\u001b[1;33m.\u001b[0m\u001b[0msleep\u001b[0m\u001b[1;33m(\u001b[0m\u001b[1;36m2\u001b[0m\u001b[1;33m)\u001b[0m\u001b[1;33m\u001b[0m\u001b[0m\n\u001b[0m\u001b[0;32m    140\u001b[0m             \u001b[1;32mcontinue\u001b[0m\u001b[1;33m\u001b[0m\u001b[0m\n\u001b[0;32m    141\u001b[0m \u001b[1;33m\u001b[0m\u001b[0m\n",
      "\u001b[1;31mKeyboardInterrupt\u001b[0m: "
     ]
    }
   ],
   "source": [
    "scrape_articles(articles, last_date)"
   ]
  },
  {
   "cell_type": "code",
   "execution_count": null,
   "metadata": {},
   "outputs": [],
   "source": []
  }
 ],
 "metadata": {
  "kernelspec": {
   "display_name": "Python 3",
   "language": "python",
   "name": "python3"
  },
  "language_info": {
   "codemirror_mode": {
    "name": "ipython",
    "version": 3
   },
   "file_extension": ".py",
   "mimetype": "text/x-python",
   "name": "python",
   "nbconvert_exporter": "python",
   "pygments_lexer": "ipython3",
   "version": "3.7.0"
  }
 },
 "nbformat": 4,
 "nbformat_minor": 2
}
